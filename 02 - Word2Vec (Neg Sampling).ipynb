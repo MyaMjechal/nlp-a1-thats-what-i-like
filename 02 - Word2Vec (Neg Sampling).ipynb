{
 "cells": [
  {
   "cell_type": "markdown",
   "metadata": {},
   "source": [
    "# Word2Vec (Negative Sampling)"
   ]
  },
  {
   "cell_type": "code",
   "execution_count": 1,
   "metadata": {},
   "outputs": [],
   "source": [
    "import numpy as np\n",
    "import torch\n",
    "import torch.nn as nn\n",
    "import torch.optim as optim\n",
    "import matplotlib.pyplot as plt"
   ]
  },
  {
   "cell_type": "code",
   "execution_count": 2,
   "metadata": {},
   "outputs": [
    {
     "data": {
      "text/plain": [
       "('2.2.0', '2.5.1+cu124')"
      ]
     },
     "execution_count": 2,
     "metadata": {},
     "output_type": "execute_result"
    }
   ],
   "source": [
    "np.__version__, torch.__version__"
   ]
  },
  {
   "cell_type": "code",
   "execution_count": 3,
   "metadata": {},
   "outputs": [
    {
     "data": {
      "text/plain": [
       "'3.10.0'"
      ]
     },
     "execution_count": 3,
     "metadata": {},
     "output_type": "execute_result"
    }
   ],
   "source": [
    "import matplotlib\n",
    "matplotlib.__version__"
   ]
  },
  {
   "cell_type": "code",
   "execution_count": 4,
   "metadata": {},
   "outputs": [
    {
     "name": "stdout",
     "output_type": "stream",
     "text": [
      "Using GPU: 0\n"
     ]
    }
   ],
   "source": [
    "# Select the GPU with the most free memory\n",
    "def get_free_gpu():\n",
    "    free_mem = [torch.cuda.memory_reserved(i) for i in range(torch.cuda.device_count())]\n",
    "    return free_mem.index(min(free_mem))\n",
    "\n",
    "best_gpu = get_free_gpu()\n",
    "torch.cuda.set_device(best_gpu)\n",
    "print(f\"Using GPU: {best_gpu}\")"
   ]
  },
  {
   "cell_type": "code",
   "execution_count": 5,
   "metadata": {},
   "outputs": [
    {
     "data": {
      "text/plain": [
       "device(type='cuda', index=0)"
      ]
     },
     "execution_count": 5,
     "metadata": {},
     "output_type": "execute_result"
    }
   ],
   "source": [
    "# Set the device variable\n",
    "device = torch.device(f'cuda:{best_gpu}' if torch.cuda.is_available() else 'cpu')\n",
    "device"
   ]
  },
  {
   "attachments": {},
   "cell_type": "markdown",
   "metadata": {},
   "source": [
    "## 1. Load data"
   ]
  },
  {
   "cell_type": "code",
   "execution_count": 7,
   "metadata": {},
   "outputs": [
    {
     "name": "stderr",
     "output_type": "stream",
     "text": [
      "[nltk_data] Downloading package reuters to /home/jupyter-\n",
      "[nltk_data]     st125469/nltk_data...\n",
      "[nltk_data]   Package reuters is already up-to-date!\n",
      "[nltk_data] Downloading package punkt_tab to /home/jupyter-\n",
      "[nltk_data]     st125469/nltk_data...\n",
      "[nltk_data]   Package punkt_tab is already up-to-date!\n"
     ]
    },
    {
     "data": {
      "text/plain": [
       "True"
      ]
     },
     "execution_count": 7,
     "metadata": {},
     "output_type": "execute_result"
    }
   ],
   "source": [
    "import nltk\n",
    "nltk.download('reuters')\n",
    "nltk.download('punkt_tab')"
   ]
  },
  {
   "cell_type": "code",
   "execution_count": 10,
   "metadata": {},
   "outputs": [],
   "source": [
    "from nltk.corpus import reuters"
   ]
  },
  {
   "cell_type": "code",
   "execution_count": 11,
   "metadata": {},
   "outputs": [
    {
     "data": {
      "text/plain": [
       "['ASIAN', 'EXPORTERS', 'FEAR', 'DAMAGE', 'FROM', 'U', ...]"
      ]
     },
     "execution_count": 11,
     "metadata": {},
     "output_type": "execute_result"
    }
   ],
   "source": [
    "reuters.words()"
   ]
  },
  {
   "cell_type": "code",
   "execution_count": 12,
   "metadata": {},
   "outputs": [
    {
     "data": {
      "text/plain": [
       "54716"
      ]
     },
     "execution_count": 12,
     "metadata": {},
     "output_type": "execute_result"
    }
   ],
   "source": [
    "# corpus = [\"apple banana fruit\", \"banana apple fruit\", \"banana fruit apple\", \"grape apple apple\", \n",
    "#         \"dog cat animal\", \"cat dog animal\", \"cat animal dog\", \"fish dog dog\"]\n",
    "corpus = reuters.sents()\n",
    "len(corpus)"
   ]
  },
  {
   "cell_type": "code",
   "execution_count": 8,
   "metadata": {},
   "outputs": [],
   "source": [
    "# #1. tokenization\n",
    "# corpus = [sent.split(\" \") for sent in corpus]\n",
    "# corpus"
   ]
  },
  {
   "cell_type": "code",
   "execution_count": 13,
   "metadata": {},
   "outputs": [],
   "source": [
    "#2. numeralization\n",
    "#find unique words\n",
    "flatten = lambda l: [item for sublist in l for item in sublist]\n",
    "#assign unique integer\n",
    "vocabs = list(set(flatten(corpus))) #all the words we have in the system - <UNK>"
   ]
  },
  {
   "cell_type": "code",
   "execution_count": 14,
   "metadata": {},
   "outputs": [
    {
     "data": {
      "text/plain": [
       "26097"
      ]
     },
     "execution_count": 14,
     "metadata": {},
     "output_type": "execute_result"
    }
   ],
   "source": [
    "#create handy mapping between integer and word\n",
    "word2index = {v:idx for idx, v in enumerate(vocabs)}\n",
    "word2index['dog']"
   ]
  },
  {
   "cell_type": "code",
   "execution_count": 15,
   "metadata": {},
   "outputs": [
    {
     "data": {
      "text/plain": [
       "41599"
      ]
     },
     "execution_count": 15,
     "metadata": {},
     "output_type": "execute_result"
    }
   ],
   "source": [
    "last_vocab_index = len(vocabs)\n",
    "last_vocab_index"
   ]
  },
  {
   "cell_type": "code",
   "execution_count": 16,
   "metadata": {},
   "outputs": [],
   "source": [
    "vocabs.append('<UNK>')\n",
    "word2index['<UNK>'] = last_vocab_index"
   ]
  },
  {
   "cell_type": "code",
   "execution_count": 17,
   "metadata": {},
   "outputs": [
    {
     "data": {
      "text/plain": [
       "'1p'"
      ]
     },
     "execution_count": 17,
     "metadata": {},
     "output_type": "execute_result"
    }
   ],
   "source": [
    "index2word = {v:k for k, v in word2index.items()}\n",
    "index2word[5]"
   ]
  },
  {
   "cell_type": "markdown",
   "metadata": {},
   "source": [
    "## 2. Prepare train data"
   ]
  },
  {
   "cell_type": "code",
   "execution_count": 18,
   "metadata": {},
   "outputs": [],
   "source": [
    "#create pairs of center word, and outside word\n",
    "\n",
    "def random_batch(batch_size, corpus, window_size=2):\n",
    "\n",
    "    skipgrams = []\n",
    "\n",
    "    #loop each corpus\n",
    "    for doc in corpus:\n",
    "        #look from the 2nd word until second last word\n",
    "        for i in range(window_size, len(doc)-window_size):\n",
    "            #center word\n",
    "            center = word2index[doc[i]]\n",
    "            #outside words = 2 words\n",
    "            outside = tuple(word2index[doc[j]] for j in range(i - window_size, i + window_size + 1) if j != i)\n",
    "            outside = (word2index[doc[i-2]], word2index[doc[i-1]], word2index[doc[i+1]], word2index[doc[i+2]])\n",
    "            #for each of these two outside words, we gonna append to a list\n",
    "            for each_out in outside:\n",
    "                skipgrams.append([center, each_out])\n",
    "                #center, outside1;   center, outside2\n",
    "                \n",
    "    random_index = np.random.choice(range(len(skipgrams)), batch_size, replace=False)\n",
    "    \n",
    "    inputs, labels = [], []\n",
    "    for index in random_index:\n",
    "        inputs.append([skipgrams[index][0]])\n",
    "        labels.append([skipgrams[index][1]])\n",
    "        \n",
    "    return np.array(inputs), np.array(labels)\n",
    "            \n",
    "x, y = random_batch(2, corpus)"
   ]
  },
  {
   "cell_type": "code",
   "execution_count": 19,
   "metadata": {},
   "outputs": [
    {
     "data": {
      "text/plain": [
       "(2, 1)"
      ]
     },
     "execution_count": 19,
     "metadata": {},
     "output_type": "execute_result"
    }
   ],
   "source": [
    "x.shape  #batch_size, 1"
   ]
  },
  {
   "cell_type": "code",
   "execution_count": 20,
   "metadata": {},
   "outputs": [
    {
     "data": {
      "text/plain": [
       "array([[20762],\n",
       "       [ 4281]])"
      ]
     },
     "execution_count": 20,
     "metadata": {},
     "output_type": "execute_result"
    }
   ],
   "source": [
    "x"
   ]
  },
  {
   "cell_type": "code",
   "execution_count": 21,
   "metadata": {},
   "outputs": [
    {
     "data": {
      "text/plain": [
       "(2, 1)"
      ]
     },
     "execution_count": 21,
     "metadata": {},
     "output_type": "execute_result"
    }
   ],
   "source": [
    "y.shape  #batch_size 1"
   ]
  },
  {
   "cell_type": "markdown",
   "metadata": {},
   "source": [
    "## 3. Negative Sampling\n",
    "\n",
    "### Unigram distribution\n",
    "\n",
    "$$P(w)=U(w)^{3/4}/Z$$"
   ]
  },
  {
   "cell_type": "code",
   "execution_count": 22,
   "metadata": {},
   "outputs": [],
   "source": [
    "z = 0.001"
   ]
  },
  {
   "cell_type": "code",
   "execution_count": 23,
   "metadata": {},
   "outputs": [
    {
     "data": {
      "text/plain": [
       "1720917"
      ]
     },
     "execution_count": 23,
     "metadata": {},
     "output_type": "execute_result"
    }
   ],
   "source": [
    "#count\n",
    "from collections import Counter\n",
    "\n",
    "word_count = Counter(flatten(corpus))\n",
    "word_count\n",
    "\n",
    "#get the total number of words\n",
    "num_total_words = sum([c for w, c in word_count.items()])\n",
    "num_total_words"
   ]
  },
  {
   "cell_type": "code",
   "execution_count": 24,
   "metadata": {},
   "outputs": [
    {
     "data": {
      "text/plain": [
       "['traditional',\n",
       " 'Flat',\n",
       " 'FCL',\n",
       " 'polypropylene',\n",
       " 'REGIME',\n",
       " '1p',\n",
       " 'fiduciary',\n",
       " 'frame',\n",
       " 'Newspapers',\n",
       " 'shield',\n",
       " 'rotated',\n",
       " 'SFAS',\n",
       " 'CREATION',\n",
       " '075',\n",
       " 'RESIGNATION',\n",
       " '426',\n",
       " 'Arabic',\n",
       " 'Metallurgy',\n",
       " 'Winthrop',\n",
       " 'MACHINE',\n",
       " 'Montgomery',\n",
       " 'AMPLE',\n",
       " 'pharmacist',\n",
       " 'RAYMOND',\n",
       " 'leases',\n",
       " 'occupational',\n",
       " 'PLACES',\n",
       " 'TRANSWORLD',\n",
       " 'Petrobras',\n",
       " 'ARC',\n",
       " 'Ruder',\n",
       " 'ISTANBUL',\n",
       " 'QUIX',\n",
       " 'HOR',\n",
       " 'BEL',\n",
       " 'Appropriations',\n",
       " 'extruded',\n",
       " 'COUNTRY',\n",
       " 'Passages',\n",
       " 'Less',\n",
       " 'drinks',\n",
       " 'MANUFACTURING',\n",
       " 'Held',\n",
       " 'Club',\n",
       " 'stocks',\n",
       " 'SUPPLY',\n",
       " 'writdown',\n",
       " 'attempt',\n",
       " 'DEFENSIVE',\n",
       " 'dozen',\n",
       " 'Seapride',\n",
       " 'manoeuvred',\n",
       " 'Les',\n",
       " '33p',\n",
       " 'CRAFT',\n",
       " 'instituting',\n",
       " 'PLC',\n",
       " 'priorities',\n",
       " 'Murchison',\n",
       " 'internally',\n",
       " 'Albertans',\n",
       " 'Minority',\n",
       " 'UNLOAD',\n",
       " 'kilowatt',\n",
       " '889',\n",
       " 'Choice',\n",
       " 'Duisburg',\n",
       " 'Multnomah',\n",
       " 'CUSHING',\n",
       " 'resurrected',\n",
       " 'mandates',\n",
       " 'QUALIFIED',\n",
       " 'contingent',\n",
       " 'TRANSDUCER',\n",
       " 'fifths',\n",
       " 'ichi',\n",
       " 'ORGANIZATION',\n",
       " '255',\n",
       " 'relationship',\n",
       " 'Quantities',\n",
       " 'ESTIMATED',\n",
       " 'predictable',\n",
       " 'materiel',\n",
       " 'extensions',\n",
       " 'Perry',\n",
       " 'SWW',\n",
       " 'Cathode',\n",
       " 'sport',\n",
       " 'reassured',\n",
       " 'strenuous',\n",
       " 'agriculture',\n",
       " 'foster',\n",
       " 'Dexploitants',\n",
       " 'Compton',\n",
       " 'SIOUX',\n",
       " 'above',\n",
       " 'pinch',\n",
       " 'explain',\n",
       " 'peruvian',\n",
       " 'underline']"
      ]
     },
     "execution_count": 24,
     "metadata": {},
     "output_type": "execute_result"
    }
   ],
   "source": [
    "vocabs[:100]"
   ]
  },
  {
   "cell_type": "markdown",
   "metadata": {},
   "source": [
    "$$P(w)=U(w)^{3/4}/Z$$"
   ]
  },
  {
   "cell_type": "code",
   "execution_count": 25,
   "metadata": {},
   "outputs": [
    {
     "data": {
      "text/plain": [
       "Counter({'.': 113,\n",
       "         ',': 92,\n",
       "         'the': 78,\n",
       "         'of': 54,\n",
       "         'to': 52,\n",
       "         'in': 43,\n",
       "         'said': 42,\n",
       "         'and': 41,\n",
       "         'a': 39,\n",
       "         'mln': 32,\n",
       "         'vs': 27,\n",
       "         '-': 26,\n",
       "         'for': 25,\n",
       "         \"'\": 23,\n",
       "         'dlrs': 23,\n",
       "         'The': 22,\n",
       "         '1': 21,\n",
       "         '000': 21,\n",
       "         ';': 19,\n",
       "         'pct': 19,\n",
       "         'it': 19,\n",
       "         's': 19,\n",
       "         'lt': 18,\n",
       "         'on': 18,\n",
       "         '&': 18,\n",
       "         'cts': 17,\n",
       "         'from': 17,\n",
       "         'is': 17,\n",
       "         '>': 16,\n",
       "         'its': 16,\n",
       "         'that': 16,\n",
       "         'S': 15,\n",
       "         'by': 15,\n",
       "         'U': 15,\n",
       "         '\"': 15,\n",
       "         'at': 15,\n",
       "         '2': 15,\n",
       "         'with': 14,\n",
       "         'will': 14,\n",
       "         'be': 14,\n",
       "         'year': 14,\n",
       "         'billion': 13,\n",
       "         'was': 13,\n",
       "         '3': 12,\n",
       "         '5': 11,\n",
       "         'would': 11,\n",
       "         'company': 11,\n",
       "         'not': 11,\n",
       "         '4': 11,\n",
       "         'as': 11,\n",
       "         'loss': 11,\n",
       "         '1986': 11,\n",
       "         'an': 11,\n",
       "         '/': 11,\n",
       "         'has': 11,\n",
       "         'he': 9,\n",
       "         '6': 9,\n",
       "         '7': 9,\n",
       "         'Net': 9,\n",
       "         'which': 9,\n",
       "         ',\"': 9,\n",
       "         '8': 8,\n",
       "         'Shr': 8,\n",
       "         'or': 8,\n",
       "         'profit': 8,\n",
       "         'last': 8,\n",
       "         'are': 8,\n",
       "         'had': 8,\n",
       "         '(': 8,\n",
       "         '9': 8,\n",
       "         'Inc': 8,\n",
       "         'have': 8,\n",
       "         'were': 8,\n",
       "         'this': 8,\n",
       "         'share': 8,\n",
       "         '0': 8,\n",
       "         'but': 7,\n",
       "         'Corp': 7,\n",
       "         '10': 7,\n",
       "         'market': 7,\n",
       "         'shares': 7,\n",
       "         'stock': 7,\n",
       "         'about': 7,\n",
       "         'one': 7,\n",
       "         'oil': 7,\n",
       "         'two': 7,\n",
       "         '1987': 7,\n",
       "         'tonnes': 7,\n",
       "         'also': 7,\n",
       "         'up': 6,\n",
       "         'Revs': 6,\n",
       "         'TO': 6,\n",
       "         'they': 6,\n",
       "         'net': 6,\n",
       "         'It': 6,\n",
       "         'per': 6,\n",
       "         'prices': 6,\n",
       "         'QTR': 6,\n",
       "         'been': 6,\n",
       "         ')': 6,\n",
       "         'April': 6,\n",
       "         'trade': 6,\n",
       "         'other': 5,\n",
       "         'bank': 5,\n",
       "         'after': 5,\n",
       "         'more': 5,\n",
       "         'new': 5,\n",
       "         'He': 5,\n",
       "         'rate': 5,\n",
       "         ':': 5,\n",
       "         '15': 5,\n",
       "         'NET': 5,\n",
       "         'quarter': 5,\n",
       "         '30': 5,\n",
       "         'Bank': 5,\n",
       "         'government': 5,\n",
       "         'January': 5,\n",
       "         '.\"': 5,\n",
       "         'Japan': 5,\n",
       "         'In': 5,\n",
       "         'week': 5,\n",
       "         '31': 5,\n",
       "         'offer': 5,\n",
       "         'price': 5,\n",
       "         'three': 5,\n",
       "         '50': 5,\n",
       "         'A': 5,\n",
       "         'March': 5,\n",
       "         '20': 5,\n",
       "         'February': 5,\n",
       "         'than': 5,\n",
       "         '1985': 5,\n",
       "         'against': 4,\n",
       "         'if': 4,\n",
       "         'some': 4,\n",
       "         '12': 4,\n",
       "         'dollar': 4,\n",
       "         'five': 4,\n",
       "         'interest': 4,\n",
       "         'could': 4,\n",
       "         'today': 4,\n",
       "         '13': 4,\n",
       "         'IN': 4,\n",
       "         'rates': 4,\n",
       "         'expected': 4,\n",
       "         'agreement': 4,\n",
       "         'their': 4,\n",
       "         'increase': 4,\n",
       "         'told': 4,\n",
       "         'end': 4,\n",
       "         'production': 4,\n",
       "         'INC': 4,\n",
       "         'tax': 4,\n",
       "         'But': 4,\n",
       "         'all': 4,\n",
       "         'first': 4,\n",
       "         '16': 4,\n",
       "         'dlr': 4,\n",
       "         'NOTE': 4,\n",
       "         'group': 4,\n",
       "         'Co': 4,\n",
       "         'Ltd': 4,\n",
       "         'rise': 4,\n",
       "         'stg': 4,\n",
       "         '11': 4,\n",
       "         'sales': 4,\n",
       "         'foreign': 4,\n",
       "         'over': 4,\n",
       "         'added': 4,\n",
       "         '25': 4,\n",
       "         'rose': 4,\n",
       "         'month': 4,\n",
       "         'no': 4,\n",
       "         'operations': 3,\n",
       "         'only': 3,\n",
       "         'down': 3,\n",
       "         'around': 3,\n",
       "         'companies': 3,\n",
       "         'report': 3,\n",
       "         'we': 3,\n",
       "         'total': 3,\n",
       "         'when': 3,\n",
       "         'under': 3,\n",
       "         'four': 3,\n",
       "         '28': 3,\n",
       "         'further': 3,\n",
       "         '87': 3,\n",
       "         'should': 3,\n",
       "         'shareholders': 3,\n",
       "         '18': 3,\n",
       "         'West': 3,\n",
       "         'investment': 3,\n",
       "         'economic': 3,\n",
       "         'board': 3,\n",
       "         'export': 3,\n",
       "         'markets': 3,\n",
       "         'business': 3,\n",
       "         'months': 3,\n",
       "         'while': 3,\n",
       "         'OF': 3,\n",
       "         'exchange': 3,\n",
       "         'mths': 3,\n",
       "         'May': 3,\n",
       "         'spokesman': 3,\n",
       "         'cut': 3,\n",
       "         'American': 3,\n",
       "         'growth': 3,\n",
       "         'major': 3,\n",
       "         'countries': 3,\n",
       "         'official': 3,\n",
       "         'New': 3,\n",
       "         'statement': 3,\n",
       "         'wheat': 3,\n",
       "         'earlier': 3,\n",
       "         'sale': 3,\n",
       "         'because': 3,\n",
       "         'world': 3,\n",
       "         'between': 3,\n",
       "         'cash': 3,\n",
       "         'due': 3,\n",
       "         'yen': 3,\n",
       "         'shrs': 3,\n",
       "         '--': 3,\n",
       "         '100': 3,\n",
       "         'next': 3,\n",
       "         'FOR': 3,\n",
       "         'officials': 3,\n",
       "         'years': 3,\n",
       "         'common': 3,\n",
       "         'fell': 3,\n",
       "         'banks': 3,\n",
       "         'imports': 3,\n",
       "         'shr': 3,\n",
       "         'industry': 3,\n",
       "         'International': 3,\n",
       "         'there': 3,\n",
       "         'earnings': 3,\n",
       "         'out': 3,\n",
       "         'six': 3,\n",
       "         'Avg': 3,\n",
       "         'United': 3,\n",
       "         'any': 3,\n",
       "         'meeting': 3,\n",
       "         'into': 3,\n",
       "         'deficit': 3,\n",
       "         'K': 3,\n",
       "         'made': 3,\n",
       "         'debt': 3,\n",
       "         'includes': 3,\n",
       "         'compared': 3,\n",
       "         '19': 3,\n",
       "         'CORP': 3,\n",
       "         'EC': 3,\n",
       "         '17': 3,\n",
       "         'sources': 3,\n",
       "         'Japanese': 3,\n",
       "         'current': 3,\n",
       "         'now': 3,\n",
       "         'December': 3,\n",
       "         'agreed': 3,\n",
       "         'reported': 3,\n",
       "         'time': 3,\n",
       "         'may': 3,\n",
       "         'exports': 3,\n",
       "         '22': 3,\n",
       "         '>,': 3,\n",
       "         'Sales': 3,\n",
       "         'Oper': 3,\n",
       "         '14': 3,\n",
       "         'Exchange': 2,\n",
       "         'president': 2,\n",
       "         'program': 2,\n",
       "         'country': 2,\n",
       "         'issue': 2,\n",
       "         'Year': 2,\n",
       "         'Record': 2,\n",
       "         'record': 2,\n",
       "         'fall': 2,\n",
       "         'such': 2,\n",
       "         'DLRS': 2,\n",
       "         'system': 2,\n",
       "         'talks': 2,\n",
       "         'before': 2,\n",
       "         'same': 2,\n",
       "         'gain': 2,\n",
       "         '.,': 2,\n",
       "         'Reuters': 2,\n",
       "         'sold': 2,\n",
       "         'eight': 2,\n",
       "         'National': 2,\n",
       "         'acquired': 2,\n",
       "         'high': 2,\n",
       "         'move': 2,\n",
       "         'chairman': 2,\n",
       "         '1ST': 2,\n",
       "         'supply': 2,\n",
       "         '23': 2,\n",
       "         'div': 2,\n",
       "         'crude': 2,\n",
       "         'This': 2,\n",
       "         '26': 2,\n",
       "         'output': 2,\n",
       "         'ago': 2,\n",
       "         'bid': 2,\n",
       "         'nil': 2,\n",
       "         'half': 2,\n",
       "         'previous': 2,\n",
       "         'owned': 2,\n",
       "         'YEAR': 2,\n",
       "         'demand': 2,\n",
       "         'tender': 2,\n",
       "         '45': 2,\n",
       "         'Canada': 2,\n",
       "         '80': 2,\n",
       "         'forecast': 2,\n",
       "         'based': 2,\n",
       "         'costs': 2,\n",
       "         'state': 2,\n",
       "         'German': 2,\n",
       "         'Trade': 2,\n",
       "         'who': 2,\n",
       "         'lower': 2,\n",
       "         'set': 2,\n",
       "         'Soviet': 2,\n",
       "         '86': 2,\n",
       "         '40': 2,\n",
       "         'estimated': 2,\n",
       "         'management': 2,\n",
       "         'MLN': 2,\n",
       "         'June': 2,\n",
       "         'OPEC': 2,\n",
       "         'his': 2,\n",
       "         'continue': 2,\n",
       "         'corn': 2,\n",
       "         '1988': 2,\n",
       "         '27': 2,\n",
       "         'plans': 2,\n",
       "         'likely': 2,\n",
       "         'surplus': 2,\n",
       "         'increased': 2,\n",
       "         'York': 2,\n",
       "         'dividend': 2,\n",
       "         'annual': 2,\n",
       "         'higher': 2,\n",
       "         'trading': 2,\n",
       "         'Qtly': 2,\n",
       "         'previously': 2,\n",
       "         'European': 2,\n",
       "         'non': 2,\n",
       "         'did': 2,\n",
       "         'long': 2,\n",
       "         'can': 2,\n",
       "         'gold': 2,\n",
       "         'held': 2,\n",
       "         'acquisition': 2,\n",
       "         '75': 2,\n",
       "         '4TH': 2,\n",
       "         'second': 2,\n",
       "         'seven': 2,\n",
       "         'each': 2,\n",
       "         'period': 2,\n",
       "         'most': 2,\n",
       "         'result': 2,\n",
       "         'already': 2,\n",
       "         'Federal': 2,\n",
       "         'value': 2,\n",
       "         'SETS': 2,\n",
       "         'nine': 2,\n",
       "         'through': 2,\n",
       "         'fiscal': 2,\n",
       "         'well': 2,\n",
       "         'proposal': 2,\n",
       "         'traders': 2,\n",
       "         'bpd': 2,\n",
       "         'They': 2,\n",
       "         'terms': 2,\n",
       "         'Pay': 2,\n",
       "         'recent': 2,\n",
       "         'financial': 2,\n",
       "         '29': 2,\n",
       "         'outstanding': 2,\n",
       "         'purchase': 2,\n",
       "         'do': 2,\n",
       "         'include': 2,\n",
       "         '),': 2,\n",
       "         'since': 2,\n",
       "         'South': 2,\n",
       "         'sugar': 2,\n",
       "         'average': 2,\n",
       "         'producers': 2,\n",
       "         'marks': 2,\n",
       "         'Minister': 2,\n",
       "         'early': 2,\n",
       "         'during': 2,\n",
       "         '21': 2,\n",
       "         'stake': 2,\n",
       "         'products': 2,\n",
       "         '200': 2,\n",
       "         'plan': 2,\n",
       "         'part': 2,\n",
       "         'ON': 2,\n",
       "         'subsidiary': 2,\n",
       "         'bought': 2,\n",
       "         'proposed': 2,\n",
       "         'I': 2,\n",
       "         'days': 2,\n",
       "         'BANK': 2,\n",
       "         'much': 2,\n",
       "         'being': 2,\n",
       "         'make': 2,\n",
       "         '32': 2,\n",
       "         'qtr': 2,\n",
       "         '300': 2,\n",
       "         'USDA': 2,\n",
       "         '24': 2,\n",
       "         'assets': 2,\n",
       "         'expects': 2,\n",
       "         'Commission': 2,\n",
       "         'levels': 2,\n",
       "         'so': 2,\n",
       "         'day': 2,\n",
       "         'Agriculture': 2,\n",
       "         'term': 2,\n",
       "         'economy': 2,\n",
       "         'still': 2,\n",
       "         'yesterday': 2,\n",
       "         'money': 2,\n",
       "         'ended': 2,\n",
       "         '33': 2,\n",
       "         'buy': 2,\n",
       "         'Nine': 2,\n",
       "         'LOSS': 2,\n",
       "         'prior': 2,\n",
       "         'off': 2,\n",
       "         'results': 2,\n",
       "         'split': 2,\n",
       "         'both': 2,\n",
       "         'figures': 2,\n",
       "         'SAYS': 2,\n",
       "         'Canadian': 2,\n",
       "         'industrial': 2,\n",
       "         'reserves': 2,\n",
       "         'our': 2,\n",
       "         'below': 2,\n",
       "         'analysts': 2,\n",
       "         'merger': 2,\n",
       "         'domestic': 2,\n",
       "         '35': 2,\n",
       "         'income': 2,\n",
       "         'cost': 2,\n",
       "         'Department': 2,\n",
       "         'Brazil': 2,\n",
       "         '60': 2,\n",
       "         'currency': 2,\n",
       "         'capital': 2,\n",
       "         '3RD': 2,\n",
       "         'central': 2,\n",
       "         'policy': 2,\n",
       "         'Group': 2,\n",
       "         'States': 2,\n",
       "         'September': 2,\n",
       "         'including': 2,\n",
       "         'loan': 2,\n",
       "         'sell': 2,\n",
       "         'grain': 2,\n",
       "         '500': 2,\n",
       "         'gas': 2,\n",
       "         'level': 2,\n",
       "         'acquire': 2,\n",
       "         'We': 2,\n",
       "         'operating': 2,\n",
       "         'credit': 2,\n",
       "         'announced': 2,\n",
       "         'O': 2,\n",
       "         'Gulf': 2,\n",
       "         'unit': 2,\n",
       "         'PCT': 2,\n",
       "         'firm': 2,\n",
       "         'take': 2,\n",
       "         'stocks': 1,\n",
       "         'above': 1,\n",
       "         'intervention': 1,\n",
       "         'few': 1,\n",
       "         'rights': 1,\n",
       "         'businesses': 1,\n",
       "         'details': 1,\n",
       "         'N': 1,\n",
       "         'barrels': 1,\n",
       "         'sector': 1,\n",
       "         'study': 1,\n",
       "         'supplies': 1,\n",
       "         'union': 1,\n",
       "         'low': 1,\n",
       "         'delegates': 1,\n",
       "         'London': 1,\n",
       "         'service': 1,\n",
       "         'sharp': 1,\n",
       "         'rising': 1,\n",
       "         'adding': 1,\n",
       "         'reduce': 1,\n",
       "         'decision': 1,\n",
       "         'nations': 1,\n",
       "         'November': 1,\n",
       "         'figure': 1,\n",
       "         'soybean': 1,\n",
       "         'completed': 1,\n",
       "         'department': 1,\n",
       "         'small': 1,\n",
       "         'At': 1,\n",
       "         'PAYOUT': 1,\n",
       "         'capacity': 1,\n",
       "         'conditions': 1,\n",
       "         'budget': 1,\n",
       "         'probably': 1,\n",
       "         'repurchase': 1,\n",
       "         'less': 1,\n",
       "         'VS': 1,\n",
       "         'dealers': 1,\n",
       "         'undisclosed': 1,\n",
       "         'IT': 1,\n",
       "         'situation': 1,\n",
       "         '52': 1,\n",
       "         'financing': 1,\n",
       "         'possible': 1,\n",
       "         'crop': 1,\n",
       "         'JAPAN': 1,\n",
       "         'SELL': 1,\n",
       "         'USAir': 1,\n",
       "         '04': 1,\n",
       "         'First': 1,\n",
       "         'Bundesbank': 1,\n",
       "         'payments': 1,\n",
       "         'gave': 1,\n",
       "         'BILLION': 1,\n",
       "         'division': 1,\n",
       "         'given': 1,\n",
       "         'agency': 1,\n",
       "         'Trust': 1,\n",
       "         'On': 1,\n",
       "         'tomorrow': 1,\n",
       "         'Arabia': 1,\n",
       "         'General': 1,\n",
       "         'contracts': 1,\n",
       "         '61': 1,\n",
       "         'C': 1,\n",
       "         'barrel': 1,\n",
       "         'sterling': 1,\n",
       "         'heavy': 1,\n",
       "         'DIVIDEND': 1,\n",
       "         'control': 1,\n",
       "         'equity': 1,\n",
       "         '37': 1,\n",
       "         'Association': 1,\n",
       "         'As': 1,\n",
       "         'later': 1,\n",
       "         '47': 1,\n",
       "         'However': 1,\n",
       "         'late': 1,\n",
       "         '93': 1,\n",
       "         'takeover': 1,\n",
       "         'deal': 1,\n",
       "         'private': 1,\n",
       "         'public': 1,\n",
       "         'James': 1,\n",
       "         'least': 1,\n",
       "         'credits': 1,\n",
       "         'significant': 1,\n",
       "         '51': 1,\n",
       "         'gains': 1,\n",
       "         'negotiations': 1,\n",
       "         'B': 1,\n",
       "         'option': 1,\n",
       "         'executive': 1,\n",
       "         'pressure': 1,\n",
       "         'Iranian': 1,\n",
       "         'France': 1,\n",
       "         'distribution': 1,\n",
       "         'showed': 1,\n",
       "         '74': 1,\n",
       "         'balance': 1,\n",
       "         'quoted': 1,\n",
       "         'FIRST': 1,\n",
       "         'joint': 1,\n",
       "         'third': 1,\n",
       "         'give': 1,\n",
       "         '94': 1,\n",
       "         'point': 1,\n",
       "         'order': 1,\n",
       "         'return': 1,\n",
       "         'directors': 1,\n",
       "         'become': 1,\n",
       "         'exporters': 1,\n",
       "         '150': 1,\n",
       "         'America': 1,\n",
       "         'steel': 1,\n",
       "         '95': 1,\n",
       "         'firms': 1,\n",
       "         'cuts': 1,\n",
       "         'declared': 1,\n",
       "         'hold': 1,\n",
       "         'approval': 1,\n",
       "         'increasing': 1,\n",
       "         'federal': 1,\n",
       "         'cents': 1,\n",
       "         'exploration': 1,\n",
       "         'M': 1,\n",
       "         'senior': 1,\n",
       "         'issued': 1,\n",
       "         'weeks': 1,\n",
       "         'Six': 1,\n",
       "         'measures': 1,\n",
       "         '03': 1,\n",
       "         'increases': 1,\n",
       "         'An': 1,\n",
       "         'STAKE': 1,\n",
       "         'little': 1,\n",
       "         'might': 1,\n",
       "         '76': 1,\n",
       "         'consumer': 1,\n",
       "         'close': 1,\n",
       "         'then': 1,\n",
       "         'BUY': 1,\n",
       "         'declined': 1,\n",
       "         '250': 1,\n",
       "         '48': 1,\n",
       "         'past': 1,\n",
       "         'G': 1,\n",
       "         'Last': 1,\n",
       "         'say': 1,\n",
       "         '58': 1,\n",
       "         'growing': 1,\n",
       "         'INDUSTRIES': 1,\n",
       "         'short': 1,\n",
       "         'concern': 1,\n",
       "         'volume': 1,\n",
       "         'receive': 1,\n",
       "         'equipment': 1,\n",
       "         'despite': 1,\n",
       "         'bill': 1,\n",
       "         'need': 1,\n",
       "         'reduced': 1,\n",
       "         'again': 1,\n",
       "         'key': 1,\n",
       "         'without': 1,\n",
       "         'very': 1,\n",
       "         'Board': 1,\n",
       "         'analyst': 1,\n",
       "         'initial': 1,\n",
       "         'tonne': 1,\n",
       "         'BY': 1,\n",
       "         '78': 1,\n",
       "         'mainly': 1,\n",
       "         'morning': 1,\n",
       "         'Note': 1,\n",
       "         'meet': 1,\n",
       "         'England': 1,\n",
       "         'ct': 1,\n",
       "         '41': 1,\n",
       "         'SHR': 1,\n",
       "         'go': 1,\n",
       "         '85': 1,\n",
       "         'latest': 1,\n",
       "         'among': 1,\n",
       "         'going': 1,\n",
       "         'discontinued': 1,\n",
       "         'D': 1,\n",
       "         're': 1,\n",
       "         'MONEY': 1,\n",
       "         'Securities': 1,\n",
       "         'seeking': 1,\n",
       "         'however': 1,\n",
       "         'committee': 1,\n",
       "         'continued': 1,\n",
       "         'place': 1,\n",
       "         'think': 1,\n",
       "         'CTS': 1,\n",
       "         '54': 1,\n",
       "         'amount': 1,\n",
       "         'member': 1,\n",
       "         'Total': 1,\n",
       "         'accord': 1,\n",
       "         'TRADE': 1,\n",
       "         'recently': 1,\n",
       "         'season': 1,\n",
       "         'these': 1,\n",
       "         '400': 1,\n",
       "         'seek': 1,\n",
       "         'goods': 1,\n",
       "         'copper': 1,\n",
       "         'closed': 1,\n",
       "         '59': 1,\n",
       "         'effective': 1,\n",
       "         'Australia': 1,\n",
       "         'use': 1,\n",
       "         'present': 1,\n",
       "         'taking': 1,\n",
       "         'North': 1,\n",
       "         'Korea': 1,\n",
       "         '42': 1,\n",
       "         'State': 1,\n",
       "         'national': 1,\n",
       "         'states': 1,\n",
       "         'until': 1,\n",
       "         'remain': 1,\n",
       "         'banking': 1,\n",
       "         'lending': 1,\n",
       "         'strike': 1,\n",
       "         '...': 1,\n",
       "         'filing': 1,\n",
       "         'boost': 1,\n",
       "         'response': 1,\n",
       "         'spending': 1,\n",
       "         'better': 1,\n",
       "         'available': 1,\n",
       "         'consumption': 1,\n",
       "         'services': 1,\n",
       "         'noted': 1,\n",
       "         'coffee': 1,\n",
       "         '77': 1,\n",
       "         'restructuring': 1,\n",
       "         'provision': 1,\n",
       "         'Texas': 1,\n",
       "         '38': 1,\n",
       "         '57': 1,\n",
       "         'planned': 1,\n",
       "         'leading': 1,\n",
       "         'pay': 1,\n",
       "         'seasonally': 1,\n",
       "         'put': 1,\n",
       "         'House': 1,\n",
       "         'help': 1,\n",
       "         'way': 1,\n",
       "         'date': 1,\n",
       "         'many': 1,\n",
       "         'another': 1,\n",
       "         'come': 1,\n",
       "         'keep': 1,\n",
       "         'payable': 1,\n",
       "         'excludes': 1,\n",
       "         'If': 1,\n",
       "         'support': 1,\n",
       "         'target': 1,\n",
       "         'slightly': 1,\n",
       "         't': 1,\n",
       "         'account': 1,\n",
       "         'FED': 1,\n",
       "         'FROM': 1,\n",
       "         'consumers': 1,\n",
       "         'data': 1,\n",
       "         '62': 1,\n",
       "         '68': 1,\n",
       "         'contract': 1,\n",
       "         'revenues': 1,\n",
       "         'RAISES': 1,\n",
       "         'MARKET': 1,\n",
       "         'comment': 1,\n",
       "         'Friday': 1,\n",
       "         'investors': 1,\n",
       "         'Under': 1,\n",
       "         'provide': 1,\n",
       "         '90': 1,\n",
       "         'respectively': 1,\n",
       "         'dollars': 1,\n",
       "         'offering': 1,\n",
       "         'Petroleum': 1,\n",
       "         'WHEAT': 1,\n",
       "         'China': 1,\n",
       "         'believe': 1,\n",
       "         'Pacific': 1,\n",
       "         'decided': 1,\n",
       "         'workers': 1,\n",
       "         'FEBRUARY': 1,\n",
       "         'buffer': 1,\n",
       "         'Industries': 1,\n",
       "         'marketing': 1,\n",
       "         '56': 1,\n",
       "         '39': 1,\n",
       "         'problem': 1,\n",
       "         'international': 1,\n",
       "         'raise': 1,\n",
       "         'even': 1,\n",
       "         'signed': 1,\n",
       "         'losses': 1,\n",
       "         'GATT': 1,\n",
       "         'currencies': 1,\n",
       "         'UNIT': 1,\n",
       "         'Iran': 1,\n",
       "         'certain': 1,\n",
       "         'Reserve': 1,\n",
       "         'interests': 1,\n",
       "         '79': 1,\n",
       "         'began': 1,\n",
       "         'OIL': 1,\n",
       "         'NEW': 1,\n",
       "         'allow': 1,\n",
       "         'areas': 1,\n",
       "         'them': 1,\n",
       "         '64': 1,\n",
       "         'Fed': 1,\n",
       "         'working': 1,\n",
       "         'basis': 1,\n",
       "         'policies': 1,\n",
       "         'STOCK': 1,\n",
       "         'plant': 1,\n",
       "         'yet': 1,\n",
       "         'pipeline': 1,\n",
       "         '92': 1,\n",
       "         'transaction': 1,\n",
       "         'worth': 1,\n",
       "         'field': 1,\n",
       "         'bills': 1,\n",
       "         'Commerce': 1,\n",
       "         'index': 1,\n",
       "         'monetary': 1,\n",
       "         'Britain': 1,\n",
       "         'holders': 1,\n",
       "         'subject': 1,\n",
       "         'issues': 1,\n",
       "         'revised': 1,\n",
       "         'whether': 1,\n",
       "         'feet': 1,\n",
       "         '34': 1,\n",
       "         'selling': 1,\n",
       "         'must': 1,\n",
       "         'drop': 1,\n",
       "         '84': 1,\n",
       "         'MAY': 1,\n",
       "         'general': 1,\n",
       "         'taken': 1,\n",
       "         'problems': 1,\n",
       "         'shipment': 1,\n",
       "         'ICO': 1,\n",
       "         'largest': 1,\n",
       "         'T': 1,\n",
       "         'unchanged': 1,\n",
       "         'Tokyo': 1,\n",
       "         'news': 1,\n",
       "         'Dome': 1,\n",
       "         'own': 1,\n",
       "         'AND': 1,\n",
       "         'Financial': 1,\n",
       "         '96': 1,\n",
       "         'CO': 1,\n",
       "         'PRICES': 1,\n",
       "         'shipments': 1,\n",
       "         'local': 1,\n",
       "         '2ND': 1,\n",
       "         'decline': 1,\n",
       "         'ministry': 1,\n",
       "         'impact': 1,\n",
       "         '83': 1,\n",
       "         'review': 1,\n",
       "         'farm': 1,\n",
       "         '00': 1,\n",
       "         'making': 1,\n",
       "         'diluted': 1,\n",
       "         'charge': 1,\n",
       "         '82': 1,\n",
       "         'Current': 1,\n",
       "         'like': 1,\n",
       "         'BUYS': 1,\n",
       "         'needed': 1,\n",
       "         'CANADA': 1,\n",
       "         'AT': 1,\n",
       "         'And': 1,\n",
       "         'JAN': 1,\n",
       "         'administration': 1,\n",
       "         'fourth': 1,\n",
       "         'caused': 1,\n",
       "         'work': 1,\n",
       "         'free': 1,\n",
       "         'President': 1,\n",
       "         'profits': 1,\n",
       "         'far': 1,\n",
       "         'shareholder': 1,\n",
       "         'ministers': 1,\n",
       "         '71': 1,\n",
       "         'For': 1,\n",
       "         'remaining': 1,\n",
       "         'Paris': 1,\n",
       "         '98': 1,\n",
       "         '53': 1,\n",
       "         'special': 1,\n",
       "         'adjusted': 1,\n",
       "         'Savings': 1,\n",
       "         'UP': 1,\n",
       "         'Africa': 1,\n",
       "         'action': 1,\n",
       "         'Taiwan': 1,\n",
       "         '70': 1,\n",
       "         'AG': 1,\n",
       "         'force': 1,\n",
       "         'those': 1,\n",
       "         '81': 1,\n",
       "         'position': 1,\n",
       "         'currently': 1,\n",
       "         '89': 1,\n",
       "         'disclosed': 1,\n",
       "         'show': 1,\n",
       "         'Secretary': 1,\n",
       "         'related': 1,\n",
       "         'owns': 1,\n",
       "         '44': 1,\n",
       "         'letter': 1,\n",
       "         'Economic': 1,\n",
       "         'Saudi': 1,\n",
       "         'August': 1,\n",
       "         '>.': 1,\n",
       "         'mark': 1,\n",
       "         'used': 1,\n",
       "         'near': 1,\n",
       "         'pre': 1,\n",
       "         'Baker': 1,\n",
       "         '49': 1,\n",
       "         'holding': 1,\n",
       "         '09': 1,\n",
       "         '55': 1,\n",
       "         'pact': 1,\n",
       "         'Union': 1,\n",
       "         'received': 1,\n",
       "         'produced': 1,\n",
       "         'Plc': 1,\n",
       "         '700': 1,\n",
       "         'members': 1,\n",
       "         'where': 1,\n",
       "         '72': 1,\n",
       "         'venture': 1,\n",
       "         'line': 1,\n",
       "         'real': 1,\n",
       "         'inflation': 1,\n",
       "         'reached': 1,\n",
       "         '63': 1,\n",
       "         '91': 1,\n",
       "         'buying': 1,\n",
       "         'Committee': 1,\n",
       "         'fixed': 1,\n",
       "         'potential': 1,\n",
       "         'don': 1,\n",
       "         'One': 1,\n",
       "         'energy': 1,\n",
       "         'does': 1,\n",
       "         'start': 1,\n",
       "         'product': 1,\n",
       "         'number': 1,\n",
       "         'continuing': 1,\n",
       "         'producing': 1,\n",
       "         'SEES': 1,\n",
       "         'L': 1,\n",
       "         'addition': 1,\n",
       "         'effect': 1,\n",
       "         'full': 1,\n",
       "         'import': 1,\n",
       "         'Western': 1,\n",
       "         'LTD': 1,\n",
       "         'reflect': 1,\n",
       "         'cocoa': 1,\n",
       "         'Coffee': 1,\n",
       "         'de': 1,\n",
       "         'funds': 1,\n",
       "         'Monday': 1,\n",
       "         '600': 1,\n",
       "         'natural': 1,\n",
       "         'too': 1,\n",
       "         'area': 1,\n",
       "         'French': 1,\n",
       "         'FEB': 1,\n",
       "         'following': 1,\n",
       "         'Indonesia': 1,\n",
       "         'chief': 1,\n",
       "         'sharply': 1,\n",
       "         'main': 1,\n",
       "         '65': 1,\n",
       "         'futures': 1,\n",
       "         'raised': 1,\n",
       "         'asked': 1,\n",
       "         '66': 1,\n",
       "         'delivery': 1,\n",
       "         '67': 1,\n",
       "         'included': 1,\n",
       "         'future': 1,\n",
       "         'OFFER': 1,\n",
       "         'consider': 1,\n",
       "         'although': 1,\n",
       "         'commercial': 1,\n",
       "         'Central': 1,\n",
       "         'see': 1,\n",
       "         'GROUP': 1,\n",
       "         'soon': 1,\n",
       "         'deposits': 1,\n",
       "         'changes': 1,\n",
       "         'Australian': 1,\n",
       "         'reserve': 1,\n",
       "         'Ministry': 1,\n",
       "         '800': 1,\n",
       "         'saying': 1,\n",
       "         'reporters': 1,\n",
       "         '43': 1,\n",
       "         'World': 1,\n",
       "         'Analysts': 1,\n",
       "         'investor': 1,\n",
       "         ...})"
      ]
     },
     "execution_count": 25,
     "metadata": {},
     "output_type": "execute_result"
    }
   ],
   "source": [
    "unigram_table = []\n",
    "\n",
    "for v in vocabs:\n",
    "    uw = word_count[v] / num_total_words\n",
    "    uw_alpha = int((uw ** 0.75) / z)\n",
    "    unigram_table.extend([v] * uw_alpha)\n",
    "    \n",
    "Counter(unigram_table)"
   ]
  },
  {
   "cell_type": "markdown",
   "metadata": {},
   "source": [
    "## 4. Model\n",
    "\n",
    "$$\\mathbf{J}_{\\text{neg-sample}}(\\mathbf{v}_c,o,\\mathbf{U})=-\\log(\\sigma(\\mathbf{u}_o^T\\mathbf{v}_c))-\\sum_{k=1}^K\\log(\\sigma(-\\mathbf{u}_k^T\\mathbf{v}_c))$$"
   ]
  },
  {
   "cell_type": "code",
   "execution_count": 26,
   "metadata": {},
   "outputs": [],
   "source": [
    "def prepare_sequence(seq, word2index):\n",
    "    idxs = list(map(lambda w: word2index[w] if word2index.get(w) is not None else word2index['<UNK>'], seq))\n",
    "    return torch.LongTensor(idxs)"
   ]
  },
  {
   "cell_type": "code",
   "execution_count": 27,
   "metadata": {},
   "outputs": [],
   "source": [
    "import random\n",
    "\n",
    "def negative_sampling(targets, unigram_table, k):\n",
    "    batch_size = targets.shape[0]\n",
    "    neg_samples = []\n",
    "    for i in range(batch_size):  #(1, k)\n",
    "        target_index = targets[i].item()\n",
    "        nsample      = []\n",
    "        while (len(nsample) < k):\n",
    "            neg = random.choice(unigram_table)\n",
    "            if word2index[neg] == target_index:\n",
    "                continue\n",
    "            nsample.append(neg)\n",
    "        neg_samples.append(prepare_sequence(nsample, word2index).reshape(1, -1))\n",
    "        \n",
    "    return torch.cat(neg_samples) #batch_size, k"
   ]
  },
  {
   "cell_type": "code",
   "execution_count": 28,
   "metadata": {},
   "outputs": [],
   "source": [
    "batch_size = 2\n",
    "x, y = random_batch(batch_size, corpus)\n",
    "x_tensor = torch.LongTensor(x)\n",
    "y_tensor = torch.LongTensor(y)"
   ]
  },
  {
   "cell_type": "code",
   "execution_count": 29,
   "metadata": {},
   "outputs": [],
   "source": [
    "k = 5\n",
    "neg_samples = negative_sampling(y_tensor, unigram_table, k)"
   ]
  },
  {
   "cell_type": "code",
   "execution_count": 30,
   "metadata": {},
   "outputs": [
    {
     "data": {
      "text/plain": [
       "tensor([34544])"
      ]
     },
     "execution_count": 30,
     "metadata": {},
     "output_type": "execute_result"
    }
   ],
   "source": [
    "y_tensor[1]"
   ]
  },
  {
   "cell_type": "code",
   "execution_count": 31,
   "metadata": {},
   "outputs": [
    {
     "data": {
      "text/plain": [
       "tensor([ 3738,  6712, 17584, 40803, 14371])"
      ]
     },
     "execution_count": 31,
     "metadata": {},
     "output_type": "execute_result"
    }
   ],
   "source": [
    "neg_samples[1]"
   ]
  },
  {
   "cell_type": "markdown",
   "metadata": {},
   "source": [
    "$$\\mathbf{J}_{\\text{neg-sample}}(\\mathbf{v}_c,o,\\mathbf{U})=-\\log(\\sigma(\\mathbf{u}_o^T\\mathbf{v}_c))-\\sum_{k=1}^K\\log(\\sigma(-\\mathbf{u}_k^T\\mathbf{v}_c))$$"
   ]
  },
  {
   "cell_type": "code",
   "execution_count": 33,
   "metadata": {},
   "outputs": [],
   "source": [
    "class SkipgramNeg(nn.Module):\n",
    "    \n",
    "    def __init__(self, voc_size, emb_size, word2index):\n",
    "        super(SkipgramNeg, self).__init__()\n",
    "        self.embedding_center  = nn.Embedding(voc_size, emb_size)\n",
    "        self.embedding_outside = nn.Embedding(voc_size, emb_size)\n",
    "        self.logsigmoid        = nn.LogSigmoid()\n",
    "        self.word2index        = word2index\n",
    "    \n",
    "    def forward(self, center, outside, negative):\n",
    "        #center, outside:  (bs, 1)\n",
    "        #negative       :  (bs, k)\n",
    "        \n",
    "        center_embed   = self.embedding_center(center) #(bs, 1, emb_size)\n",
    "        outside_embed  = self.embedding_outside(outside) #(bs, 1, emb_size)\n",
    "        negative_embed = self.embedding_outside(negative) #(bs, k, emb_size)\n",
    "        \n",
    "        uovc           = outside_embed.bmm(center_embed.transpose(1, 2)).squeeze(2) #(bs, 1)\n",
    "        ukvc           = -negative_embed.bmm(center_embed.transpose(1, 2)).squeeze(2) #(bs, k)\n",
    "        ukvc_sum       = torch.sum(ukvc, 1).reshape(-1, 1) #(bs, 1)\n",
    "        \n",
    "        loss           = self.logsigmoid(uovc) + self.logsigmoid(ukvc_sum)\n",
    "        \n",
    "        return -torch.mean(loss)\n",
    "\n",
    "    def get_embed(self, word):\n",
    "      word2index = self.word2index\n",
    "      try:\n",
    "        index = word2index[word]\n",
    "      except:\n",
    "        index = word2index['<UNK>']\n",
    "\n",
    "      word = torch.LongTensor([word2index[word]]).to(device)\n",
    "\n",
    "      embed_c = self.embedding_center(word)\n",
    "      embed_o = self.embedding_outside(word)\n",
    "      embed   = (embed_c + embed_o) / 2\n",
    "    \n",
    "      return embed[0][0].item(), embed[0][1].item()"
   ]
  },
  {
   "cell_type": "code",
   "execution_count": 36,
   "metadata": {},
   "outputs": [],
   "source": [
    "#test your model\n",
    "emb_size = 2\n",
    "voc_size = len(vocabs)\n",
    "model = SkipgramNeg(voc_size, emb_size, word2index)"
   ]
  },
  {
   "cell_type": "code",
   "execution_count": 37,
   "metadata": {},
   "outputs": [],
   "source": [
    "loss = model(x_tensor, y_tensor, neg_samples)"
   ]
  },
  {
   "cell_type": "code",
   "execution_count": 38,
   "metadata": {},
   "outputs": [
    {
     "data": {
      "text/plain": [
       "tensor(2.5343, grad_fn=<NegBackward0>)"
      ]
     },
     "execution_count": 38,
     "metadata": {},
     "output_type": "execute_result"
    }
   ],
   "source": [
    "loss"
   ]
  },
  {
   "cell_type": "markdown",
   "metadata": {},
   "source": [
    "## 5. Training"
   ]
  },
  {
   "cell_type": "code",
   "execution_count": 39,
   "metadata": {},
   "outputs": [],
   "source": [
    "optimizer = optim.Adam(model.parameters(), lr=0.001)"
   ]
  },
  {
   "cell_type": "code",
   "execution_count": 42,
   "metadata": {},
   "outputs": [],
   "source": [
    "def epoch_time(start_time, end_time):\n",
    "    elapsed_time = end_time - start_time\n",
    "    elapsed_mins = int(elapsed_time / 60)\n",
    "    elapsed_secs = int(elapsed_time - (elapsed_mins * 60))\n",
    "    return elapsed_time, elapsed_mins, elapsed_secs"
   ]
  },
  {
   "cell_type": "code",
   "execution_count": 43,
   "metadata": {},
   "outputs": [
    {
     "name": "stdout",
     "output_type": "stream",
     "text": [
      "Epoch     10 | Loss: 2.015184 | time: 2m 3s\n",
      "Epoch     20 | Loss: 1.985616 | time: 2m 4s\n",
      "Epoch     30 | Loss: 1.890364 | time: 2m 2s\n",
      "Epoch     40 | Loss: 2.655458 | time: 2m 3s\n",
      "Epoch     50 | Loss: 3.335845 | time: 2m 7s\n",
      "Epoch     60 | Loss: 0.228589 | time: 2m 4s\n",
      "Epoch     70 | Loss: 1.044566 | time: 2m 5s\n",
      "Epoch     80 | Loss: 1.309772 | time: 2m 16s\n",
      "Epoch     90 | Loss: 1.105003 | time: 2m 14s\n",
      "Epoch    100 | Loss: 1.163552 | time: 2m 17s\n"
     ]
    }
   ],
   "source": [
    "import time\n",
    "\n",
    "num_epochs = 100\n",
    "total_time = 0\n",
    "start_time = time.time()\n",
    "\n",
    "for epoch in range(num_epochs):\n",
    "    \n",
    "    #get batch\n",
    "    input_batch, label_batch = random_batch(batch_size, corpus)\n",
    "    input_tensor = torch.LongTensor(input_batch)\n",
    "    label_tensor = torch.LongTensor(label_batch)\n",
    "    \n",
    "    #predict\n",
    "    neg_samples = negative_sampling(label_tensor, unigram_table, k)\n",
    "    loss = model(input_tensor, label_tensor, neg_samples)\n",
    "    \n",
    "    #backprogate\n",
    "    optimizer.zero_grad()\n",
    "    loss.backward()\n",
    "    \n",
    "    #update alpha\n",
    "    optimizer.step()\n",
    "    \n",
    "    #print the loss\n",
    "    if (epoch + 1) % 10 == 0:\n",
    "        end_time = time.time()\n",
    "        total, epoch_mins, epoch_secs = epoch_time(start_time, end_time)\n",
    "        total_time += total\n",
    "        print(f\"Epoch {epoch+1:6.0f} | Loss: {loss:2.6f} | time: {epoch_mins}m {epoch_secs}s\")\n",
    "        start_time = time.time()"
   ]
  },
  {
   "cell_type": "code",
   "execution_count": 44,
   "metadata": {},
   "outputs": [
    {
     "name": "stdout",
     "output_type": "stream",
     "text": [
      "Total train loss: 1.163552\n",
      "Total training time: 1278.51 seconds\n"
     ]
    }
   ],
   "source": [
    "# print total train loss and total training time\n",
    "print(f\"Total train loss: {loss:.6f}\")\n",
    "print(f\"Total training time: {total_time:.2f} seconds\")"
   ]
  },
  {
   "attachments": {},
   "cell_type": "markdown",
   "metadata": {},
   "source": [
    "## 6. Plot the embeddings"
   ]
  },
  {
   "cell_type": "code",
   "execution_count": 45,
   "metadata": {},
   "outputs": [
    {
     "data": {
      "text/plain": [
       "['traditional',\n",
       " 'Flat',\n",
       " 'FCL',\n",
       " 'polypropylene',\n",
       " 'REGIME',\n",
       " '1p',\n",
       " 'fiduciary',\n",
       " 'frame',\n",
       " 'Newspapers',\n",
       " 'shield']"
      ]
     },
     "execution_count": 45,
     "metadata": {},
     "output_type": "execute_result"
    }
   ],
   "source": [
    "vocabs[:10]"
   ]
  },
  {
   "cell_type": "code",
   "execution_count": 47,
   "metadata": {},
   "outputs": [
    {
     "data": {
      "text/plain": [
       "tensor([7])"
      ]
     },
     "execution_count": 47,
     "metadata": {},
     "output_type": "execute_result"
    }
   ],
   "source": [
    "frame = torch.LongTensor([word2index['frame']])\n",
    "frame"
   ]
  },
  {
   "cell_type": "code",
   "execution_count": 48,
   "metadata": {},
   "outputs": [
    {
     "data": {
      "text/plain": [
       "tensor([[-1.4728,  1.0519]], grad_fn=<DivBackward0>)"
      ]
     },
     "execution_count": 48,
     "metadata": {},
     "output_type": "execute_result"
    }
   ],
   "source": [
    "frame_embed_c = model.embedding_center(frame)\n",
    "frame_embed_o = model.embedding_outside(frame)\n",
    "frame_embed   = (frame_embed_c + frame_embed_o) / 2\n",
    "frame_embed"
   ]
  },
  {
   "cell_type": "code",
   "execution_count": 49,
   "metadata": {},
   "outputs": [
    {
     "data": {
      "text/plain": [
       "tensor([[-2.9622,  1.6424]], grad_fn=<EmbeddingBackward0>)"
      ]
     },
     "execution_count": 49,
     "metadata": {},
     "output_type": "execute_result"
    }
   ],
   "source": [
    "frame_embed_o"
   ]
  },
  {
   "cell_type": "code",
   "execution_count": 50,
   "metadata": {},
   "outputs": [],
   "source": [
    "# def get_embed(word):\n",
    "#     try:\n",
    "#         index = word2index[word]\n",
    "#     except:\n",
    "#         index = word2index['<UNK>']\n",
    "        \n",
    "#     word = torch.LongTensor([word2index[word]])\n",
    "    \n",
    "#     embed_c = model.embedding_center(word)\n",
    "#     embed_o = model.embedding_outside(word)\n",
    "#     embed   = (embed_c + embed_o) / 2\n",
    "    \n",
    "#     return embed[0][0].item(), embed[0][1].item()"
   ]
  },
  {
   "cell_type": "code",
   "execution_count": 51,
   "metadata": {},
   "outputs": [],
   "source": [
    "# get_embed('fruit')"
   ]
  },
  {
   "cell_type": "code",
   "execution_count": 52,
   "metadata": {},
   "outputs": [],
   "source": [
    "# get_embed('cat')"
   ]
  },
  {
   "cell_type": "code",
   "execution_count": 53,
   "metadata": {},
   "outputs": [],
   "source": [
    "# get_embed('dog')"
   ]
  },
  {
   "cell_type": "code",
   "execution_count": 54,
   "metadata": {},
   "outputs": [],
   "source": [
    "# get_embed('banana')"
   ]
  },
  {
   "cell_type": "code",
   "execution_count": 55,
   "metadata": {},
   "outputs": [],
   "source": [
    "# plt.figure(figsize=(6, 3))\n",
    "# for i, word in enumerate(vocabs):\n",
    "#     x, y = get_embed(word)\n",
    "#     plt.scatter(x, y)\n",
    "#     plt.annotate(word, xy=(x, y), xytext=(5, 2), textcoords='offset points')\n",
    "# plt.show()"
   ]
  },
  {
   "cell_type": "markdown",
   "metadata": {},
   "source": [
    "## 7. Save Model"
   ]
  },
  {
   "cell_type": "code",
   "execution_count": 56,
   "metadata": {},
   "outputs": [],
   "source": [
    "torch.save(model.state_dict(), 'app/code/models/skipgram-neg.pt')"
   ]
  },
  {
   "cell_type": "code",
   "execution_count": 57,
   "metadata": {},
   "outputs": [],
   "source": [
    "import pickle\n",
    "\n",
    "skipgram_neg_args = {\n",
    "    'word2index': word2index,\n",
    "    'voc_size': voc_size,\n",
    "    'emb_size': emb_size\n",
    "}\n",
    "\n",
    "pickle.dump(skipgram_neg_args, open('app/code/models/skipgrams-neg.pkl', 'wb'))"
   ]
  },
  {
   "cell_type": "code",
   "execution_count": 60,
   "metadata": {},
   "outputs": [
    {
     "name": "stderr",
     "output_type": "stream",
     "text": [
      "/tmp/ipykernel_925156/433674238.py:3: FutureWarning: You are using `torch.load` with `weights_only=False` (the current default value), which uses the default pickle module implicitly. It is possible to construct malicious pickle data which will execute arbitrary code during unpickling (See https://github.com/pytorch/pytorch/blob/main/SECURITY.md#untrusted-models for more details). In a future release, the default value for `weights_only` will be flipped to `True`. This limits the functions that could be executed during unpickling. Arbitrary objects will no longer be allowed to be loaded via this mode unless they are explicitly allowlisted by the user via `torch.serialization.add_safe_globals`. We recommend you start setting `weights_only=True` for any use case where you don't have full control of the loaded file. Please open an issue on GitHub for any issues related to this experimental feature.\n",
      "  load_model.load_state_dict(torch.load('app/code/models/skipgram-neg.pt'))\n"
     ]
    },
    {
     "data": {
      "text/plain": [
       "<All keys matched successfully>"
      ]
     },
     "execution_count": 60,
     "metadata": {},
     "output_type": "execute_result"
    }
   ],
   "source": [
    "load_skipgram_neg_args = pickle.load(open('app/code/models/skipgrams-neg.pkl', 'rb'))\n",
    "load_model = SkipgramNeg(**load_skipgram_neg_args).to(device)\n",
    "load_model.load_state_dict(torch.load('app/code/models/skipgram-neg.pt'))"
   ]
  },
  {
   "cell_type": "code",
   "execution_count": 61,
   "metadata": {},
   "outputs": [
    {
     "data": {
      "text/plain": [
       "(-1.47282075881958, 1.0519459247589111)"
      ]
     },
     "execution_count": 61,
     "metadata": {},
     "output_type": "execute_result"
    }
   ],
   "source": [
    "load_model.get_embed('frame')"
   ]
  },
  {
   "cell_type": "markdown",
   "metadata": {},
   "source": [
    "## 7. Cosine similarity"
   ]
  },
  {
   "cell_type": "code",
   "execution_count": 62,
   "metadata": {},
   "outputs": [],
   "source": [
    "# banana = get_embed('banana')\n",
    "# banana"
   ]
  },
  {
   "cell_type": "code",
   "execution_count": 63,
   "metadata": {},
   "outputs": [],
   "source": [
    "# fruit = get_embed('fruit')\n",
    "# fruit"
   ]
  },
  {
   "cell_type": "code",
   "execution_count": 64,
   "metadata": {},
   "outputs": [],
   "source": [
    "# cat = get_embed('cat')\n",
    "# cat"
   ]
  },
  {
   "cell_type": "code",
   "execution_count": 65,
   "metadata": {},
   "outputs": [],
   "source": [
    "# np.array(banana) @ np.array(cat)"
   ]
  },
  {
   "cell_type": "code",
   "execution_count": 66,
   "metadata": {},
   "outputs": [],
   "source": [
    "# #more formally is to divide by its norm\n",
    "# def cosine_similarity(A, B):\n",
    "#     dot_product = np.dot(A, B)\n",
    "#     norm_a = np.linalg.norm(A)\n",
    "#     norm_b = np.linalg.norm(B)\n",
    "#     similarity = dot_product / (norm_a * norm_b)\n",
    "#     return similarity\n",
    "\n",
    "# print(cosine_similarity(np.array(banana), np.array(cat)))\n",
    "# print(cosine_similarity(np.array(banana), np.array(fruit)))"
   ]
  }
 ],
 "metadata": {
  "kernelspec": {
   "display_name": "Python 3 (ipykernel)",
   "language": "python",
   "name": "python3"
  },
  "language_info": {
   "codemirror_mode": {
    "name": "ipython",
    "version": 3
   },
   "file_extension": ".py",
   "mimetype": "text/x-python",
   "name": "python",
   "nbconvert_exporter": "python",
   "pygments_lexer": "ipython3",
   "version": "3.12.6"
  },
  "vscode": {
   "interpreter": {
    "hash": "0f2c79af21be9d001248940c049b6176cf8bfb45cabf7aa85848f5cea0f590f6"
   }
  }
 },
 "nbformat": 4,
 "nbformat_minor": 4
}
