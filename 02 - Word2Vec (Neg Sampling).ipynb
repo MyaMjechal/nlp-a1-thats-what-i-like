{
  "cells": [
    {
      "cell_type": "markdown",
      "metadata": {
        "id": "IaF8IopAqVJq"
      },
      "source": [
        "# Word2Vec (Negative Sampling)"
      ]
    },
    {
      "cell_type": "code",
      "execution_count": 16,
      "metadata": {
        "id": "7E5oteZtqVJt"
      },
      "outputs": [],
      "source": [
        "import numpy as np\n",
        "import torch\n",
        "import torch.nn as nn\n",
        "import torch.optim as optim\n",
        "import matplotlib.pyplot as plt"
      ]
    },
    {
      "cell_type": "code",
      "execution_count": 17,
      "metadata": {
        "colab": {
          "base_uri": "https://localhost:8080/"
        },
        "id": "vFZ_YMz6qVJu",
        "outputId": "a995b95b-1877-4018-c59f-0a5953322a27"
      },
      "outputs": [
        {
          "output_type": "execute_result",
          "data": {
            "text/plain": [
              "('1.26.4', '2.5.1+cu121')"
            ]
          },
          "metadata": {},
          "execution_count": 17
        }
      ],
      "source": [
        "np.__version__, torch.__version__"
      ]
    },
    {
      "cell_type": "code",
      "execution_count": 18,
      "metadata": {
        "colab": {
          "base_uri": "https://localhost:8080/",
          "height": 35
        },
        "id": "-HJfapFSqVJv",
        "outputId": "32d81466-61fb-437f-e661-402746f58b29"
      },
      "outputs": [
        {
          "output_type": "execute_result",
          "data": {
            "text/plain": [
              "'3.10.0'"
            ],
            "application/vnd.google.colaboratory.intrinsic+json": {
              "type": "string"
            }
          },
          "metadata": {},
          "execution_count": 18
        }
      ],
      "source": [
        "import matplotlib\n",
        "matplotlib.__version__"
      ]
    },
    {
      "cell_type": "code",
      "execution_count": 19,
      "metadata": {
        "colab": {
          "base_uri": "https://localhost:8080/"
        },
        "id": "8-aozbNVqVJw",
        "outputId": "7b4da69b-5f79-45f2-b364-7abb023678a7"
      },
      "outputs": [
        {
          "output_type": "stream",
          "name": "stdout",
          "text": [
            "Using GPU: 0\n"
          ]
        }
      ],
      "source": [
        "# Select the GPU with the most free memory\n",
        "def get_free_gpu():\n",
        "    # Check if CUDA is available before getting device count\n",
        "    if torch.cuda.is_available():\n",
        "        free_mem = [torch.cuda.memory_reserved(i) for i in range(torch.cuda.device_count())]\n",
        "        return free_mem.index(min(free_mem))\n",
        "    # If CUDA is not available, return -1 (or another appropriate value)\n",
        "    else:\n",
        "        return -1\n",
        "\n",
        "best_gpu = get_free_gpu()\n",
        "\n",
        "# Use the best GPU if available, otherwise use CPU\n",
        "if best_gpu != -1:\n",
        "    torch.cuda.set_device(best_gpu)\n",
        "    print(f\"Using GPU: {best_gpu}\")\n",
        "else:\n",
        "    print(\"No CUDA-enabled GPUs found. Using CPU.\")"
      ]
    },
    {
      "cell_type": "code",
      "execution_count": 20,
      "metadata": {
        "colab": {
          "base_uri": "https://localhost:8080/"
        },
        "id": "67khWP8_qVJx",
        "outputId": "532af77e-ae4f-49ba-f82d-1109a81fa5f5"
      },
      "outputs": [
        {
          "output_type": "execute_result",
          "data": {
            "text/plain": [
              "device(type='cuda', index=0)"
            ]
          },
          "metadata": {},
          "execution_count": 20
        }
      ],
      "source": [
        "# Set the device variable\n",
        "device = torch.device(f'cuda:{best_gpu}' if torch.cuda.is_available() else 'cpu')\n",
        "device"
      ]
    },
    {
      "cell_type": "markdown",
      "metadata": {
        "id": "SSHR_seZqVJy"
      },
      "source": [
        "## 1. Load data"
      ]
    },
    {
      "cell_type": "code",
      "execution_count": 21,
      "metadata": {
        "colab": {
          "base_uri": "https://localhost:8080/"
        },
        "id": "11D67BjVqVJz",
        "outputId": "29da28fb-4f8b-4248-8bd5-c1b76e06c4ef"
      },
      "outputs": [
        {
          "output_type": "stream",
          "name": "stderr",
          "text": [
            "[nltk_data] Downloading package reuters to /root/nltk_data...\n",
            "[nltk_data]   Package reuters is already up-to-date!\n",
            "[nltk_data] Downloading package punkt_tab to /root/nltk_data...\n",
            "[nltk_data]   Package punkt_tab is already up-to-date!\n"
          ]
        },
        {
          "output_type": "execute_result",
          "data": {
            "text/plain": [
              "True"
            ]
          },
          "metadata": {},
          "execution_count": 21
        }
      ],
      "source": [
        "import nltk\n",
        "nltk.download('reuters')\n",
        "nltk.download('punkt_tab')"
      ]
    },
    {
      "cell_type": "code",
      "execution_count": 22,
      "metadata": {
        "id": "_W9qNoiTqVJz"
      },
      "outputs": [],
      "source": [
        "from nltk.corpus import reuters"
      ]
    },
    {
      "cell_type": "code",
      "execution_count": 23,
      "metadata": {
        "colab": {
          "base_uri": "https://localhost:8080/"
        },
        "id": "mOffj9t6qVJ0",
        "outputId": "156d5b12-e380-456e-87d5-7dbc08916f78"
      },
      "outputs": [
        {
          "output_type": "execute_result",
          "data": {
            "text/plain": [
              "['ASIAN', 'EXPORTERS', 'FEAR', 'DAMAGE', 'FROM', 'U', ...]"
            ]
          },
          "metadata": {},
          "execution_count": 23
        }
      ],
      "source": [
        "reuters.words()"
      ]
    },
    {
      "cell_type": "code",
      "execution_count": 24,
      "metadata": {
        "colab": {
          "base_uri": "https://localhost:8080/"
        },
        "id": "eROi8_c0qVJ0",
        "outputId": "390babd4-744f-4646-8771-69ae8352ae89"
      },
      "outputs": [
        {
          "output_type": "execute_result",
          "data": {
            "text/plain": [
              "10000"
            ]
          },
          "metadata": {},
          "execution_count": 24
        }
      ],
      "source": [
        "# corpus = [\"apple banana fruit\", \"banana apple fruit\", \"banana fruit apple\", \"grape apple apple\",\n",
        "#         \"dog cat animal\", \"cat dog animal\", \"cat animal dog\", \"fish dog dog\"]\n",
        "corpus = reuters.sents()\n",
        "corpus = corpus[:10000]\n",
        "len(corpus)"
      ]
    },
    {
      "cell_type": "code",
      "execution_count": 25,
      "metadata": {
        "id": "hr2yGNeiqVJ1"
      },
      "outputs": [],
      "source": [
        "# #1. tokenization\n",
        "# corpus = [sent.split(\" \") for sent in corpus]\n",
        "# corpus"
      ]
    },
    {
      "cell_type": "code",
      "execution_count": 26,
      "metadata": {
        "id": "wLxfBilEqVJ1"
      },
      "outputs": [],
      "source": [
        "#2. numeralization\n",
        "#find unique words\n",
        "flatten = lambda l: [item for sublist in l for item in sublist]\n",
        "#assign unique integer\n",
        "vocabs = list(set(flatten(corpus))) #all the words we have in the system - <UNK>"
      ]
    },
    {
      "cell_type": "code",
      "execution_count": 27,
      "metadata": {
        "colab": {
          "base_uri": "https://localhost:8080/"
        },
        "id": "CDeYLdNBqVJ2",
        "outputId": "6533868c-b296-4f52-dd41-5d7e90c58778"
      },
      "outputs": [
        {
          "output_type": "execute_result",
          "data": {
            "text/plain": [
              "13185"
            ]
          },
          "metadata": {},
          "execution_count": 27
        }
      ],
      "source": [
        "#create handy mapping between integer and word\n",
        "word2index = {v:idx for idx, v in enumerate(vocabs)}\n",
        "word2index['pattern']"
      ]
    },
    {
      "cell_type": "code",
      "execution_count": 28,
      "metadata": {
        "colab": {
          "base_uri": "https://localhost:8080/"
        },
        "id": "VULI2MRDqVJ2",
        "outputId": "f541f687-bad6-4049-eb2e-41803afd8780"
      },
      "outputs": [
        {
          "output_type": "execute_result",
          "data": {
            "text/plain": [
              "18045"
            ]
          },
          "metadata": {},
          "execution_count": 28
        }
      ],
      "source": [
        "last_vocab_index = len(vocabs)\n",
        "last_vocab_index"
      ]
    },
    {
      "cell_type": "code",
      "execution_count": 29,
      "metadata": {
        "id": "kb02BouIqVJ2"
      },
      "outputs": [],
      "source": [
        "vocabs.append('<UNK>')\n",
        "word2index['<UNK>'] = last_vocab_index"
      ]
    },
    {
      "cell_type": "code",
      "execution_count": 30,
      "metadata": {
        "colab": {
          "base_uri": "https://localhost:8080/",
          "height": 35
        },
        "id": "Oeo81C5HqVJ3",
        "outputId": "b98b31d8-7699-4b5f-bced-a23b3074d36c"
      },
      "outputs": [
        {
          "output_type": "execute_result",
          "data": {
            "text/plain": [
              "'McGill'"
            ],
            "application/vnd.google.colaboratory.intrinsic+json": {
              "type": "string"
            }
          },
          "metadata": {},
          "execution_count": 30
        }
      ],
      "source": [
        "index2word = {v:k for k, v in word2index.items()}\n",
        "index2word[5]"
      ]
    },
    {
      "cell_type": "markdown",
      "metadata": {
        "id": "_r_jkuGMqVJ3"
      },
      "source": [
        "## 2. Prepare train data"
      ]
    },
    {
      "cell_type": "code",
      "execution_count": 31,
      "metadata": {
        "id": "ax88Ub_FqVJ3"
      },
      "outputs": [],
      "source": [
        "#create pairs of center word, and outside word\n",
        "\n",
        "def random_batch(batch_size, corpus, window_size=2):\n",
        "\n",
        "    skipgrams = []\n",
        "\n",
        "    #loop each corpus\n",
        "    for doc in corpus:\n",
        "        #look from the 2nd word until second last word\n",
        "        for i in range(window_size, len(doc)-window_size):\n",
        "            #center word\n",
        "            center = word2index[doc[i]]\n",
        "            #outside words = 2 words\n",
        "            outside = tuple(word2index[doc[j]] for j in range(i - window_size, i + window_size + 1) if j != i)\n",
        "            # outside = (word2index[doc[i-2]], word2index[doc[i-1]], word2index[doc[i+1]], word2index[doc[i+2]])\n",
        "            #for each of these two outside words, we gonna append to a list\n",
        "            for each_out in outside:\n",
        "                skipgrams.append([center, each_out])\n",
        "                #center, outside1;   center, outside2\n",
        "\n",
        "    random_index = np.random.choice(range(len(skipgrams)), batch_size, replace=False)\n",
        "\n",
        "    inputs, labels = [], []\n",
        "    for index in random_index:\n",
        "        inputs.append([skipgrams[index][0]])\n",
        "        labels.append([skipgrams[index][1]])\n",
        "\n",
        "    return np.array(inputs), np.array(labels)\n",
        "\n",
        "x, y = random_batch(2, corpus)"
      ]
    },
    {
      "cell_type": "code",
      "execution_count": 32,
      "metadata": {
        "colab": {
          "base_uri": "https://localhost:8080/"
        },
        "id": "XA1JZCMRqVJ4",
        "outputId": "11743efb-51a4-4a72-e02b-5494125a2059"
      },
      "outputs": [
        {
          "output_type": "execute_result",
          "data": {
            "text/plain": [
              "(2, 1)"
            ]
          },
          "metadata": {},
          "execution_count": 32
        }
      ],
      "source": [
        "x.shape  #batch_size, 1"
      ]
    },
    {
      "cell_type": "code",
      "execution_count": 33,
      "metadata": {
        "colab": {
          "base_uri": "https://localhost:8080/"
        },
        "id": "B67XoZ7WqVJ4",
        "outputId": "943f0161-9636-4cca-a377-ecfe7cf7077a"
      },
      "outputs": [
        {
          "output_type": "execute_result",
          "data": {
            "text/plain": [
              "array([[ 1555],\n",
              "       [12522]])"
            ]
          },
          "metadata": {},
          "execution_count": 33
        }
      ],
      "source": [
        "x"
      ]
    },
    {
      "cell_type": "code",
      "execution_count": 34,
      "metadata": {
        "colab": {
          "base_uri": "https://localhost:8080/"
        },
        "id": "w7mwp1R1qVJ4",
        "outputId": "949954a3-f925-4f50-cf66-7a016a138cb3"
      },
      "outputs": [
        {
          "output_type": "execute_result",
          "data": {
            "text/plain": [
              "(2, 1)"
            ]
          },
          "metadata": {},
          "execution_count": 34
        }
      ],
      "source": [
        "y.shape  #batch_size 1"
      ]
    },
    {
      "cell_type": "markdown",
      "metadata": {
        "id": "nTHXWyWIqVJ5"
      },
      "source": [
        "## 3. Negative Sampling\n",
        "\n",
        "### Unigram distribution\n",
        "\n",
        "$$P(w)=U(w)^{3/4}/Z$$"
      ]
    },
    {
      "cell_type": "code",
      "execution_count": 35,
      "metadata": {
        "id": "P-v-PBmDqVJ5"
      },
      "outputs": [],
      "source": [
        "z = 0.001"
      ]
    },
    {
      "cell_type": "code",
      "execution_count": 36,
      "metadata": {
        "colab": {
          "base_uri": "https://localhost:8080/"
        },
        "id": "QFQKFVlFqVJ5",
        "outputId": "ce29f59a-f45f-44f1-9aa4-000472e90518"
      },
      "outputs": [
        {
          "output_type": "execute_result",
          "data": {
            "text/plain": [
              "315187"
            ]
          },
          "metadata": {},
          "execution_count": 36
        }
      ],
      "source": [
        "#count\n",
        "from collections import Counter\n",
        "\n",
        "word_count = Counter(flatten(corpus))\n",
        "word_count\n",
        "\n",
        "#get the total number of words\n",
        "num_total_words = sum([c for w, c in word_count.items()])\n",
        "num_total_words"
      ]
    },
    {
      "cell_type": "code",
      "execution_count": 37,
      "metadata": {
        "colab": {
          "base_uri": "https://localhost:8080/"
        },
        "id": "h3sCoX49qVJ6",
        "outputId": "7797d9c6-e3ea-4dc8-b3b2-1650349b4186"
      },
      "outputs": [
        {
          "output_type": "execute_result",
          "data": {
            "text/plain": [
              "['TLX',\n",
              " 'Bond',\n",
              " 'POSITIVE',\n",
              " 'Greyhound',\n",
              " 'Following',\n",
              " 'McGill',\n",
              " 'Stock',\n",
              " 'proposals',\n",
              " 'noteholders',\n",
              " 'Contact',\n",
              " 'Mailers',\n",
              " 'EXPORTERS',\n",
              " 'Dreyer',\n",
              " 'confidence',\n",
              " 'MIDEAST',\n",
              " 'keen',\n",
              " 'recession',\n",
              " 'FEARS',\n",
              " 'stern',\n",
              " 'PACKAGE',\n",
              " 'Drew',\n",
              " 'Du',\n",
              " 'speculators',\n",
              " 'UNPROFITABLE',\n",
              " 'an',\n",
              " 'gestures',\n",
              " 'uptrend',\n",
              " 'companyies',\n",
              " 'page',\n",
              " 'Wilf',\n",
              " 'Espinosa',\n",
              " '810',\n",
              " 'According',\n",
              " 'Interface',\n",
              " 'measurement',\n",
              " 'powers',\n",
              " 'MOSCOW',\n",
              " 'finally',\n",
              " '409p',\n",
              " 'purposes',\n",
              " 'GHW',\n",
              " 'initiatives',\n",
              " 'Sarney',\n",
              " 'exercisable',\n",
              " 'FUNDING',\n",
              " 'processes',\n",
              " 'withdrawing',\n",
              " 'eliminate',\n",
              " 'stockpiled',\n",
              " 'Chit',\n",
              " 'CAJAMARQUILLA',\n",
              " 'creditors',\n",
              " 'MANAGE',\n",
              " 'revoked',\n",
              " 'deposited',\n",
              " 'CRITICAL',\n",
              " 'plannned',\n",
              " 'Ishihara',\n",
              " 'lumber',\n",
              " 'Bentsen',\n",
              " 'happier',\n",
              " 'pressuring',\n",
              " 'Industrielle',\n",
              " 'Lyle',\n",
              " '06',\n",
              " '869',\n",
              " 'Deposits',\n",
              " '6p',\n",
              " 'preferential',\n",
              " 'redeem',\n",
              " 'Discount',\n",
              " 'stimulatory',\n",
              " 'Boakes',\n",
              " 'restocking',\n",
              " 'KO',\n",
              " 'INFO',\n",
              " 'REPLACES',\n",
              " 'Copperbelt',\n",
              " 'Gary',\n",
              " 'Minority',\n",
              " 'suspend',\n",
              " 'Buffer',\n",
              " 'ELXA',\n",
              " 'intend',\n",
              " 'Frozen',\n",
              " '24',\n",
              " 'GLT',\n",
              " 'lifeline',\n",
              " 'HADS',\n",
              " 'CRA',\n",
              " 'FAILS',\n",
              " 'pro',\n",
              " 'PIO',\n",
              " 'depart',\n",
              " 'computerized',\n",
              " 'Dollars',\n",
              " 'FIXED',\n",
              " 'Ashai',\n",
              " 'guidelines',\n",
              " 'Barend']"
            ]
          },
          "metadata": {},
          "execution_count": 37
        }
      ],
      "source": [
        "vocabs[:100]"
      ]
    },
    {
      "cell_type": "markdown",
      "metadata": {
        "id": "Mh8WoaBGqVJ6"
      },
      "source": [
        "$$P(w)=U(w)^{3/4}/Z$$"
      ]
    },
    {
      "cell_type": "code",
      "execution_count": 38,
      "metadata": {
        "colab": {
          "base_uri": "https://localhost:8080/"
        },
        "id": "-qQBfPYOqVJ6",
        "outputId": "8cdc37ce-6db1-43ef-c6a8-4b544c4291e8"
      },
      "outputs": [
        {
          "output_type": "execute_result",
          "data": {
            "text/plain": [
              "Counter({'an': 11,\n",
              "         'Deposits': 1,\n",
              "         '24': 3,\n",
              "         'cash': 3,\n",
              "         'If': 1,\n",
              "         'TRADE': 1,\n",
              "         'exports': 3,\n",
              "         'heavy': 1,\n",
              "         'pressure': 1,\n",
              "         'want': 1,\n",
              "         'Africa': 1,\n",
              "         'Harcourt': 1,\n",
              "         '03': 3,\n",
              "         'francs': 1,\n",
              "         'PRICE': 1,\n",
              "         'shareholders': 2,\n",
              "         'quarter': 6,\n",
              "         'LDP': 1,\n",
              "         'selling': 1,\n",
              "         'Western': 1,\n",
              "         'sharply': 1,\n",
              "         '37': 2,\n",
              "         'rate': 5,\n",
              "         'STAKE': 1,\n",
              "         'will': 12,\n",
              "         'so': 2,\n",
              "         'tomorrow': 1,\n",
              "         'seen': 1,\n",
              "         'early': 1,\n",
              "         'due': 3,\n",
              "         'growth': 4,\n",
              "         'added': 4,\n",
              "         'up': 6,\n",
              "         'although': 1,\n",
              "         'DLRS': 2,\n",
              "         'CANADA': 1,\n",
              "         'out': 3,\n",
              "         'currently': 1,\n",
              "         'manager': 1,\n",
              "         'predicted': 1,\n",
              "         'not': 11,\n",
              "         'SETS': 1,\n",
              "         'inflation': 2,\n",
              "         'accord': 1,\n",
              "         'approved': 1,\n",
              "         'part': 2,\n",
              "         '--': 4,\n",
              "         'deficit': 3,\n",
              "         'bond': 1,\n",
              "         'buyers': 1,\n",
              "         'more': 5,\n",
              "         'good': 1,\n",
              "         'MLN': 2,\n",
              "         'loss': 8,\n",
              "         'Co': 5,\n",
              "         'Fund': 1,\n",
              "         'are': 9,\n",
              "         'Assets': 1,\n",
              "         'subject': 1,\n",
              "         'borrowings': 1,\n",
              "         'expansion': 1,\n",
              "         'countries': 2,\n",
              "         'basis': 1,\n",
              "         'caused': 1,\n",
              "         'finance': 1,\n",
              "         '57': 1,\n",
              "         'back': 1,\n",
              "         '84': 1,\n",
              "         '30': 6,\n",
              "         'Dome': 2,\n",
              "         '4': 12,\n",
              "         'Friday': 1,\n",
              "         'drop': 1,\n",
              "         'NOTE': 3,\n",
              "         'revised': 1,\n",
              "         'approval': 1,\n",
              "         'restructuring': 1,\n",
              "         'be': 14,\n",
              "         'Other': 1,\n",
              "         'National': 2,\n",
              "         'lower': 3,\n",
              "         'company': 11,\n",
              "         'purchases': 1,\n",
              "         'fiscal': 2,\n",
              "         '51': 2,\n",
              "         'fall': 2,\n",
              "         'present': 1,\n",
              "         'offset': 1,\n",
              "         'rights': 1,\n",
              "         'sources': 3,\n",
              "         'common': 3,\n",
              "         'gas': 2,\n",
              "         'opened': 1,\n",
              "         'At': 1,\n",
              "         'USDA': 2,\n",
              "         '13': 4,\n",
              "         'trade': 6,\n",
              "         't': 1,\n",
              "         '89': 1,\n",
              "         '46': 1,\n",
              "         'Indonesia': 1,\n",
              "         'main': 1,\n",
              "         'G': 2,\n",
              "         '&': 18,\n",
              "         '86': 3,\n",
              "         'announcement': 1,\n",
              "         'Crazy': 1,\n",
              "         '72': 1,\n",
              "         'court': 1,\n",
              "         'season': 1,\n",
              "         'strong': 2,\n",
              "         'package': 1,\n",
              "         'whether': 1,\n",
              "         'started': 1,\n",
              "         'acquired': 2,\n",
              "         'May': 5,\n",
              "         'senior': 1,\n",
              "         'like': 1,\n",
              "         'just': 1,\n",
              "         'our': 2,\n",
              "         'remain': 1,\n",
              "         'GAF': 1,\n",
              "         'NIL': 1,\n",
              "         '05': 1,\n",
              "         '),': 2,\n",
              "         'amount': 1,\n",
              "         'worth': 1,\n",
              "         'official': 3,\n",
              "         'previous': 1,\n",
              "         'committee': 1,\n",
              "         'debt': 2,\n",
              "         'Japanese': 3,\n",
              "         'costs': 1,\n",
              "         '500': 2,\n",
              "         'substantial': 1,\n",
              "         'units': 1,\n",
              "         'Louvre': 1,\n",
              "         'United': 3,\n",
              "         'holding': 1,\n",
              "         '47': 1,\n",
              "         '28': 4,\n",
              "         '.,': 2,\n",
              "         'use': 1,\n",
              "         'natural': 1,\n",
              "         'Industries': 1,\n",
              "         'which': 9,\n",
              "         'country': 2,\n",
              "         'export': 2,\n",
              "         'through': 2,\n",
              "         'credits': 1,\n",
              "         'being': 2,\n",
              "         'include': 1,\n",
              "         'should': 3,\n",
              "         '98': 1,\n",
              "         'strike': 1,\n",
              "         'near': 1,\n",
              "         'North': 1,\n",
              "         'now': 3,\n",
              "         'position': 1,\n",
              "         'excludes': 1,\n",
              "         'sale': 2,\n",
              "         'Stcks': 1,\n",
              "         'total': 3,\n",
              "         'set': 1,\n",
              "         '19': 3,\n",
              "         'traders': 2,\n",
              "         'March': 4,\n",
              "         '70': 2,\n",
              "         'decline': 1,\n",
              "         '100': 3,\n",
              "         'report': 3,\n",
              "         'SHR': 1,\n",
              "         'provide': 1,\n",
              "         'GNP': 1,\n",
              "         '17': 3,\n",
              "         'free': 1,\n",
              "         '.': 119,\n",
              "         'beef': 1,\n",
              "         'including': 2,\n",
              "         'ministers': 1,\n",
              "         'maintain': 1,\n",
              "         'Tokyo': 1,\n",
              "         'when': 3,\n",
              "         'issued': 1,\n",
              "         'China': 2,\n",
              "         'control': 1,\n",
              "         'average': 2,\n",
              "         'YEAR': 1,\n",
              "         'areas': 1,\n",
              "         'foreign': 4,\n",
              "         'Federal': 2,\n",
              "         '80': 2,\n",
              "         'five': 4,\n",
              "         'AND': 1,\n",
              "         '200': 1,\n",
              "         'yet': 1,\n",
              "         'seasonally': 1,\n",
              "         'rice': 1,\n",
              "         'contracts': 1,\n",
              "         'Sales': 2,\n",
              "         'crude': 2,\n",
              "         'monthly': 1,\n",
              "         'two': 6,\n",
              "         'Year': 1,\n",
              "         'Shr': 7,\n",
              "         'reached': 1,\n",
              "         'losses': 1,\n",
              "         'shipments': 1,\n",
              "         'president': 1,\n",
              "         'deposits': 1,\n",
              "         '300': 2,\n",
              "         'plus': 1,\n",
              "         'NET': 5,\n",
              "         'local': 1,\n",
              "         'sell': 2,\n",
              "         'see': 1,\n",
              "         'includes': 2,\n",
              "         'based': 2,\n",
              "         'move': 2,\n",
              "         'conference': 1,\n",
              "         'transaction': 1,\n",
              "         'most': 2,\n",
              "         'talks': 2,\n",
              "         'consumer': 1,\n",
              "         'or': 8,\n",
              "         '96': 1,\n",
              "         'I': 3,\n",
              "         '800': 1,\n",
              "         'America': 1,\n",
              "         'central': 3,\n",
              "         'price': 5,\n",
              "         'his': 2,\n",
              "         'tax': 4,\n",
              "         '1988': 2,\n",
              "         'Imports': 1,\n",
              "         'taking': 1,\n",
              "         'tonnes': 7,\n",
              "         'mln': 30,\n",
              "         '-': 28,\n",
              "         'range': 1,\n",
              "         'owned': 2,\n",
              "         'future': 1,\n",
              "         'SEES': 1,\n",
              "         '1987': 7,\n",
              "         'their': 4,\n",
              "         'CCC': 1,\n",
              "         'become': 1,\n",
              "         '.\"': 5,\n",
              "         'P': 1,\n",
              "         'national': 1,\n",
              "         'year': 14,\n",
              "         'planned': 1,\n",
              "         'mths': 1,\n",
              "         'futures': 1,\n",
              "         'Association': 1,\n",
              "         'Canada': 2,\n",
              "         'Saudi': 1,\n",
              "         'negotiations': 1,\n",
              "         'between': 3,\n",
              "         'International': 3,\n",
              "         'we': 3,\n",
              "         'France': 1,\n",
              "         'earlier': 3,\n",
              "         'can': 2,\n",
              "         'above': 1,\n",
              "         'statement': 3,\n",
              "         '43': 1,\n",
              "         'SELL': 1,\n",
              "         'line': 1,\n",
              "         'reserves': 2,\n",
              "         'Production': 1,\n",
              "         'X': 1,\n",
              "         '52': 1,\n",
              "         'affected': 1,\n",
              "         'Industry': 1,\n",
              "         'Oper': 2,\n",
              "         '11': 4,\n",
              "         '>.': 1,\n",
              "         'Poehl': 1,\n",
              "         'cut': 3,\n",
              "         'yen': 3,\n",
              "         'days': 2,\n",
              "         'ending': 1,\n",
              "         'Note': 1,\n",
              "         '56': 1,\n",
              "         'would': 12,\n",
              "         'asked': 1,\n",
              "         'prime': 1,\n",
              "         'House': 1,\n",
              "         'area': 1,\n",
              "         'ago': 2,\n",
              "         '93': 1,\n",
              "         'declined': 1,\n",
              "         'capacity': 1,\n",
              "         'raise': 1,\n",
              "         '41': 1,\n",
              "         '63': 1,\n",
              "         'octane': 1,\n",
              "         'Inc': 8,\n",
              "         'dollars': 1,\n",
              "         'ended': 3,\n",
              "         '1986': 11,\n",
              "         'begin': 1,\n",
              "         '64': 1,\n",
              "         'included': 1,\n",
              "         '62': 1,\n",
              "         '90': 2,\n",
              "         'Monetary': 1,\n",
              "         'own': 1,\n",
              "         'Start': 1,\n",
              "         'bought': 2,\n",
              "         'seeking': 1,\n",
              "         'Oil': 1,\n",
              "         '99': 1,\n",
              "         'proposed': 2,\n",
              "         'spot': 1,\n",
              "         'domestic': 2,\n",
              "         'since': 3,\n",
              "         'INDUSTRIES': 1,\n",
              "         'used': 1,\n",
              "         'computer': 1,\n",
              "         'div': 1,\n",
              "         'estimates': 1,\n",
              "         'adjusted': 2,\n",
              "         'agreement': 4,\n",
              "         'cts': 14,\n",
              "         'other': 5,\n",
              "         'For': 1,\n",
              "         'Spain': 1,\n",
              "         'Reserve': 1,\n",
              "         'unchanged': 1,\n",
              "         'wheat': 2,\n",
              "         '08': 1,\n",
              "         'available': 1,\n",
              "         'SEEN': 1,\n",
              "         'press': 1,\n",
              "         'market': 7,\n",
              "         'further': 3,\n",
              "         'Trade': 2,\n",
              "         'financial': 2,\n",
              "         'Last': 1,\n",
              "         'plant': 1,\n",
              "         'how': 1,\n",
              "         'C': 1,\n",
              "         'executive': 1,\n",
              "         'then': 1,\n",
              "         'work': 1,\n",
              "         'improved': 1,\n",
              "         'economic': 3,\n",
              "         'them': 1,\n",
              "         'largest': 1,\n",
              "         'currencies': 1,\n",
              "         'CRUDE': 1,\n",
              "         'that': 16,\n",
              "         'have': 8,\n",
              "         'money': 3,\n",
              "         'completed': 1,\n",
              "         'public': 1,\n",
              "         'of': 54,\n",
              "         '58': 1,\n",
              "         'newspaper': 1,\n",
              "         'announced': 2,\n",
              "         're': 1,\n",
              "         ':': 5,\n",
              "         'ON': 1,\n",
              "         'also': 7,\n",
              "         'loan': 1,\n",
              "         'showed': 1,\n",
              "         'term': 2,\n",
              "         'Officials': 1,\n",
              "         '12': 4,\n",
              "         'industrial': 2,\n",
              "         'within': 1,\n",
              "         'ships': 1,\n",
              "         'letter': 1,\n",
              "         '400': 1,\n",
              "         'fixed': 1,\n",
              "         'few': 1,\n",
              "         'political': 1,\n",
              "         'offers': 1,\n",
              "         'Warner': 1,\n",
              "         '27': 2,\n",
              "         'six': 3,\n",
              "         'equity': 1,\n",
              "         'O': 5,\n",
              "         'while': 3,\n",
              "         'off': 1,\n",
              "         'This': 2,\n",
              "         'End': 1,\n",
              "         'put': 1,\n",
              "         '55': 2,\n",
              "         'And': 1,\n",
              "         'received': 1,\n",
              "         'here': 1,\n",
              "         'months': 3,\n",
              "         '71': 1,\n",
              "         'all': 4,\n",
              "         'A': 5,\n",
              "         'stock': 6,\n",
              "         'Australia': 1,\n",
              "         'ACQUIRE': 1,\n",
              "         'bankers': 1,\n",
              "         'February': 3,\n",
              "         'was': 14,\n",
              "         'subsidiary': 2,\n",
              "         '18': 4,\n",
              "         'decided': 1,\n",
              "         'special': 1,\n",
              "         'support': 1,\n",
              "         '79': 1,\n",
              "         'with': 14,\n",
              "         'period': 3,\n",
              "         'rising': 1,\n",
              "         'because': 4,\n",
              "         'capital': 2,\n",
              "         'spokesman': 3,\n",
              "         '8': 9,\n",
              "         'Wednesday': 1,\n",
              "         'help': 1,\n",
              "         'continuing': 1,\n",
              "         'BUYS': 1,\n",
              "         'final': 1,\n",
              "         'full': 1,\n",
              "         'tariffs': 1,\n",
              "         'another': 1,\n",
              "         'Seven': 1,\n",
              "         '53': 1,\n",
              "         'today': 4,\n",
              "         'GROUP': 1,\n",
              "         '1': 21,\n",
              "         '95': 1,\n",
              "         '88': 2,\n",
              "         'after': 5,\n",
              "         'until': 1,\n",
              "         'food': 1,\n",
              "         'quota': 1,\n",
              "         'business': 3,\n",
              "         'hold': 1,\n",
              "         'Monier': 1,\n",
              "         'B': 1,\n",
              "         '/': 19,\n",
              "         'WHEAT': 1,\n",
              "         'Prev': 1,\n",
              "         'four': 3,\n",
              "         'right': 1,\n",
              "         '44': 1,\n",
              "         'where': 1,\n",
              "         'grain': 1,\n",
              "         'down': 2,\n",
              "         'less': 2,\n",
              "         'yield': 1,\n",
              "         'below': 1,\n",
              "         'Europe': 1,\n",
              "         'month': 4,\n",
              "         'been': 6,\n",
              "         '22': 3,\n",
              "         '85': 1,\n",
              "         'stg': 3,\n",
              "         'E': 1,\n",
              "         'trading': 2,\n",
              "         'working': 1,\n",
              "         'making': 1,\n",
              "         'payments': 1,\n",
              "         'demand': 3,\n",
              "         'any': 2,\n",
              "         'increases': 1,\n",
              "         'general': 1,\n",
              "         'filing': 1,\n",
              "         '9': 8,\n",
              "         'economist': 1,\n",
              "         'FIRST': 1,\n",
              "         'currency': 2,\n",
              "         'cost': 2,\n",
              "         'J': 1,\n",
              "         'made': 3,\n",
              "         'Brazil': 1,\n",
              "         'following': 1,\n",
              "         'well': 2,\n",
              "         '54': 1,\n",
              "         'reported': 3,\n",
              "         'venture': 1,\n",
              "         'DIVIDEND': 1,\n",
              "         'review': 1,\n",
              "         'among': 1,\n",
              "         '77': 1,\n",
              "         'supplies': 1,\n",
              "         'exploration': 1,\n",
              "         'Iraq': 1,\n",
              "         'keep': 1,\n",
              "         'what': 1,\n",
              "         'figure': 1,\n",
              "         'compared': 3,\n",
              "         'close': 1,\n",
              "         'management': 2,\n",
              "         'series': 1,\n",
              "         'barrels': 1,\n",
              "         'supply': 2,\n",
              "         '87': 9,\n",
              "         'reduce': 1,\n",
              "         'similar': 1,\n",
              "         'conditions': 1,\n",
              "         'qtr': 1,\n",
              "         'one': 7,\n",
              "         'director': 1,\n",
              "         'particularly': 1,\n",
              "         'crop': 2,\n",
              "         'mine': 1,\n",
              "         'higher': 3,\n",
              "         'such': 2,\n",
              "         'October': 1,\n",
              "         'He': 5,\n",
              "         'little': 1,\n",
              "         'figures': 2,\n",
              "         'about': 7,\n",
              "         'morning': 1,\n",
              "         'mark': 1,\n",
              "         'these': 1,\n",
              "         'disclosed': 1,\n",
              "         'Department': 2,\n",
              "         'had': 8,\n",
              "         'quoted': 1,\n",
              "         'TONNES': 1,\n",
              "         'it': 18,\n",
              "         'imports': 3,\n",
              "         'Group': 2,\n",
              "         'already': 2,\n",
              "         'April': 7,\n",
              "         'expect': 1,\n",
              "         'stocks': 1,\n",
              "         'from': 16,\n",
              "         'marks': 2,\n",
              "         'system': 1,\n",
              "         'chief': 1,\n",
              "         '34': 1,\n",
              "         'situation': 1,\n",
              "         '67': 1,\n",
              "         'he': 10,\n",
              "         'raised': 1,\n",
              "         'firm': 2,\n",
              "         'D': 1,\n",
              "         'additional': 1,\n",
              "         '3': 12,\n",
              "         'RAISES': 1,\n",
              "         'Use': 1,\n",
              "         'cents': 2,\n",
              "         'materials': 1,\n",
              "         'name': 1,\n",
              "         'held': 2,\n",
              "         'January': 2,\n",
              "         'taken': 1,\n",
              "         'President': 1,\n",
              "         'least': 1,\n",
              "         'vs': 24,\n",
              "         'latest': 1,\n",
              "         'CO': 1,\n",
              "         'Avg': 3,\n",
              "         'operations': 2,\n",
              "         'some': 4,\n",
              "         'Taiwan': 1,\n",
              "         'They': 2,\n",
              "         'long': 2,\n",
              "         'prior': 2,\n",
              "         '75': 3,\n",
              "         'later': 1,\n",
              "         'analyst': 1,\n",
              "         'firms': 1,\n",
              "         'Agreement': 1,\n",
              "         'profit': 5,\n",
              "         'annual': 2,\n",
              "         'banking': 1,\n",
              "         'Exports': 2,\n",
              "         'Corp': 7,\n",
              "         'dividend': 2,\n",
              "         'a': 38,\n",
              "         'Ministry': 1,\n",
              "         'PCT': 2,\n",
              "         'its': 16,\n",
              "         'began': 1,\n",
              "         'One': 1,\n",
              "         'growing': 1,\n",
              "         'levels': 2,\n",
              "         'second': 1,\n",
              "         'U': 14,\n",
              "         'IMF': 1,\n",
              "         'offer': 5,\n",
              "         'hit': 1,\n",
              "         'CSR': 1,\n",
              "         'products': 3,\n",
              "         '5': 12,\n",
              "         'chairman': 2,\n",
              "         'agreements': 1,\n",
              "         'who': 2,\n",
              "         '61': 1,\n",
              "         '23': 3,\n",
              "         'rather': 1,\n",
              "         '31': 4,\n",
              "         'is': 17,\n",
              "         'per': 6,\n",
              "         'gave': 1,\n",
              "         'interests': 1,\n",
              "         'Gulf': 1,\n",
              "         '2': 16,\n",
              "         'profits': 1,\n",
              "         'reduced': 1,\n",
              "         '000': 19,\n",
              "         'noted': 1,\n",
              "         'K': 2,\n",
              "         'purchase': 2,\n",
              "         'follows': 1,\n",
              "         ')': 6,\n",
              "         '14': 4,\n",
              "         '480': 1,\n",
              "         'must': 1,\n",
              "         'bills': 1,\n",
              "         'signed': 1,\n",
              "         'adding': 1,\n",
              "         'Gillette': 1,\n",
              "         'September': 1,\n",
              "         'large': 1,\n",
              "         'issue': 1,\n",
              "         'contract': 1,\n",
              "         '66': 1,\n",
              "         'point': 1,\n",
              "         'meet': 1,\n",
              "         '26': 2,\n",
              "         'still': 2,\n",
              "         'forecast': 2,\n",
              "         'details': 1,\n",
              "         'First': 1,\n",
              "         '45': 2,\n",
              "         'port': 1,\n",
              "         'OECD': 1,\n",
              "         'pay': 1,\n",
              "         'if': 4,\n",
              "         'weeks': 1,\n",
              "         'businesses': 1,\n",
              "         'start': 1,\n",
              "         'MARKET': 1,\n",
              "         'major': 3,\n",
              "         'development': 1,\n",
              "         'economy': 2,\n",
              "         'result': 2,\n",
              "         'during': 2,\n",
              "         '60': 2,\n",
              "         'December': 2,\n",
              "         'overall': 1,\n",
              "         'gain': 2,\n",
              "         'British': 1,\n",
              "         'budget': 2,\n",
              "         'guilders': 1,\n",
              "         'UP': 1,\n",
              "         'division': 1,\n",
              "         'day': 2,\n",
              "         'BILLION': 1,\n",
              "         'unit': 2,\n",
              "         'APRIL': 1,\n",
              "         'the': 77,\n",
              "         'Treasury': 1,\n",
              "         'General': 1,\n",
              "         '35': 3,\n",
              "         'non': 2,\n",
              "         'sugar': 2,\n",
              "         'believe': 1,\n",
              "         'consumers': 1,\n",
              "         'American': 2,\n",
              "         'limit': 1,\n",
              "         'but': 7,\n",
              "         'daily': 1,\n",
              "         'far': 1,\n",
              "         'JAPAN': 1,\n",
              "         'share': 7,\n",
              "         'buying': 1,\n",
              "         'action': 1,\n",
              "         'state': 1,\n",
              "         'members': 1,\n",
              "         'number': 1,\n",
              "         'index': 1,\n",
              "         'shares': 7,\n",
              "         '82': 1,\n",
              "         'credit': 2,\n",
              "         'Computer': 1,\n",
              "         'offered': 1,\n",
              "         'much': 2,\n",
              "         'July': 2,\n",
              "         'farmers': 1,\n",
              "         'HAS': 1,\n",
              "         'F': 1,\n",
              "         'rise': 4,\n",
              "         'time': 3,\n",
              "         'without': 1,\n",
              "         'estimated': 2,\n",
              "         'Board': 1,\n",
              "         'Eddie': 1,\n",
              "         'Community': 1,\n",
              "         'Commission': 2,\n",
              "         'produced': 1,\n",
              "         '21': 3,\n",
              "         '73': 1,\n",
              "         'next': 3,\n",
              "         'undisclosed': 1,\n",
              "         'recently': 1,\n",
              "         'slightly': 1,\n",
              "         'might': 1,\n",
              "         '97': 1,\n",
              "         'potential': 1,\n",
              "         'However': 2,\n",
              "         'cocoa': 1,\n",
              "         'EC': 3,\n",
              "         'outstanding': 2,\n",
              "         'economists': 1,\n",
              "         'however': 1,\n",
              "         '68': 1,\n",
              "         'Council': 1,\n",
              "         'key': 1,\n",
              "         'South': 2,\n",
              "         'past': 1,\n",
              "         'said': 42,\n",
              "         'speculation': 1,\n",
              "         'Revs': 5,\n",
              "         'they': 6,\n",
              "         's': 19,\n",
              "         'Plc': 1,\n",
              "         'directors': 1,\n",
              "         'Lynch': 1,\n",
              "         '4TH': 1,\n",
              "         'bill': 1,\n",
              "         'people': 1,\n",
              "         '>,': 3,\n",
              "         'record': 2,\n",
              "         'Congress': 1,\n",
              "         'T': 1,\n",
              "         'It': 6,\n",
              "         'takeover': 1,\n",
              "         'as': 11,\n",
              "         'lt': 18,\n",
              "         'There': 1,\n",
              "         'GRAIN': 1,\n",
              "         'Total': 2,\n",
              "         'Fed': 2,\n",
              "         'concern': 1,\n",
              "         'federal': 1,\n",
              "         'effective': 2,\n",
              "         'June': 4,\n",
              "         'date': 1,\n",
              "         'has': 12,\n",
              "         '48': 1,\n",
              "         'charge': 1,\n",
              "         'and': 41,\n",
              "         'ACQUISITION': 1,\n",
              "         'Reagan': 2,\n",
              "         'Qtly': 1,\n",
              "         'CTS': 2,\n",
              "         'industry': 3,\n",
              "         'continue': 2,\n",
              "         'dealers': 2,\n",
              "         'N': 2,\n",
              "         'ministry': 1,\n",
              "         'Finance': 1,\n",
              "         'shrs': 3,\n",
              "         'almost': 1,\n",
              "         'soybean': 1,\n",
              "         'those': 1,\n",
              "         'Swiss': 1,\n",
              "         '42': 1,\n",
              "         'sales': 4,\n",
              "         'top': 1,\n",
              "         'In': 4,\n",
              "         'balance': 1,\n",
              "         'French': 1,\n",
              "         ',': 91,\n",
              "         'billion': 14,\n",
              "         '2ND': 1,\n",
              "         'in': 41,\n",
              "         'view': 1,\n",
              "         'called': 1,\n",
              "         'Agriculture': 2,\n",
              "         '0': 10,\n",
              "         '1ST': 4,\n",
              "         'marketing': 1,\n",
              "         'nil': 5,\n",
              "         'despite': 1,\n",
              "         'companies': 3,\n",
              "         'repurchase': 1,\n",
              "         'Soviet': 1,\n",
              "         'AT': 1,\n",
              "         'don': 1,\n",
              "         'program': 1,\n",
              "         'exporters': 1,\n",
              "         'expects': 2,\n",
              "         'could': 5,\n",
              "         'bpd': 1,\n",
              "         '15': 5,\n",
              "         '78': 1,\n",
              "         'fell': 2,\n",
              "         'payment': 1,\n",
              "         'end': 4,\n",
              "         'VS': 1,\n",
              "         'Minister': 2,\n",
              "         'equipment': 1,\n",
              "         'FEB': 1,\n",
              "         'Net': 8,\n",
              "         'investment': 2,\n",
              "         'lead': 2,\n",
              "         'European': 2,\n",
              "         '40': 3,\n",
              "         'investor': 1,\n",
              "         'import': 1,\n",
              "         'earnings': 3,\n",
              "         'eight': 2,\n",
              "         'dollar': 5,\n",
              "         'shipment': 1,\n",
              "         'before': 3,\n",
              "         'services': 1,\n",
              "         '700': 1,\n",
              "         'probably': 1,\n",
              "         'acquisition': 3,\n",
              "         'terms': 2,\n",
              "         'Australian': 1,\n",
              "         'Britain': 1,\n",
              "         'changes': 1,\n",
              "         'dlr': 4,\n",
              "         'told': 4,\n",
              "         'receive': 1,\n",
              "         'do': 2,\n",
              "         'department': 1,\n",
              "         'delivery': 1,\n",
              "         '09': 5,\n",
              "         'to': 50,\n",
              "         'increased': 2,\n",
              "         'rose': 4,\n",
              "         'securities': 1,\n",
              "         'board': 3,\n",
              "         'banks': 2,\n",
              "         'assets': 2,\n",
              "         'RATE': 1,\n",
              "         '00': 2,\n",
              "         'soon': 1,\n",
              "         'Ltd': 4,\n",
              "         '16': 3,\n",
              "         'three': 4,\n",
              "         'MARCH': 1,\n",
              "         'German': 1,\n",
              "         'scheduled': 1,\n",
              "         'high': 2,\n",
              "         'But': 4,\n",
              "         'stake': 2,\n",
              "         'dlrs': 22,\n",
              "         'significant': 1,\n",
              "         'Washington': 2,\n",
              "         '29': 2,\n",
              "         'news': 1,\n",
              "         'reserve': 1,\n",
              "         'QTR': 6,\n",
              "         'interest': 4,\n",
              "         '49': 2,\n",
              "         'pipeline': 1,\n",
              "         'barrel': 2,\n",
              "         'farm': 1,\n",
              "         '76': 1,\n",
              "         'take': 2,\n",
              "         'fourth': 1,\n",
              "         'even': 1,\n",
              "         'possible': 1,\n",
              "         'late': 1,\n",
              "         '50': 6,\n",
              "         'world': 2,\n",
              "         'Merrill': 1,\n",
              "         'sector': 1,\n",
              "         'does': 1,\n",
              "         '92': 1,\n",
              "         'exchange': 3,\n",
              "         'several': 1,\n",
              "         'needed': 1,\n",
              "         'change': 1,\n",
              "         'merger': 2,\n",
              "         'did': 2,\n",
              "         'BUY': 1,\n",
              "         'for': 25,\n",
              "         'level': 2,\n",
              "         'states': 1,\n",
              "         'Borg': 1,\n",
              "         'S': 14,\n",
              "         'certain': 1,\n",
              "         'half': 2,\n",
              "         '33': 2,\n",
              "         'FED': 1,\n",
              "         'addition': 1,\n",
              "         'only': 3,\n",
              "         'Burlington': 1,\n",
              "         'pact': 1,\n",
              "         'Commerce': 1,\n",
              "         'years': 3,\n",
              "         '39': 1,\n",
              "         'increase': 4,\n",
              "         '600': 1,\n",
              "         'Company': 1,\n",
              "         'data': 1,\n",
              "         'buy': 2,\n",
              "         'Stocks': 2,\n",
              "         'Under': 1,\n",
              "         'Shell': 1,\n",
              "         'Paris': 1,\n",
              "         'producers': 1,\n",
              "         '59': 1,\n",
              "         'BY': 1,\n",
              "         'copper': 1,\n",
              "         'production': 4,\n",
              "         'base': 1,\n",
              "         'into': 3,\n",
              "         'small': 1,\n",
              "         'problems': 1,\n",
              "         'States': 2,\n",
              "         'Record': 1,\n",
              "         'Korea': 1,\n",
              "         'preferred': 1,\n",
              "         'very': 1,\n",
              "         'smelter': 1,\n",
              "         'week': 5,\n",
              "         'coffee': 1,\n",
              "         'sharp': 1,\n",
              "         'Wk': 1,\n",
              "         'London': 1,\n",
              "         'income': 2,\n",
              "         'current': 4,\n",
              "         'Securities': 1,\n",
              "         'tons': 1,\n",
              "         'spending': 1,\n",
              "         'Bank': 5,\n",
              "         'Energy': 1,\n",
              "         'OF': 3,\n",
              "         'give': 1,\n",
              "         'force': 1,\n",
              "         '900': 1,\n",
              "         'producer': 1,\n",
              "         ',\"': 9,\n",
              "         'officials': 3,\n",
              "         'on': 18,\n",
              "         'Pay': 1,\n",
              "         'make': 2,\n",
              "         'stability': 1,\n",
              "         'plan': 2,\n",
              "         'provision': 1,\n",
              "         'markets': 3,\n",
              "         'New': 3,\n",
              "         'by': 16,\n",
              "         '(': 8,\n",
              "         'sold': 2,\n",
              "         'nine': 1,\n",
              "         'Six': 1,\n",
              "         'Exchange': 2,\n",
              "         '74': 1,\n",
              "         'loans': 2,\n",
              "         'intervention': 1,\n",
              "         '91': 1,\n",
              "         'way': 1,\n",
              "         'seven': 2,\n",
              "         'both': 2,\n",
              "         'CORP': 3,\n",
              "         'BBL': 1,\n",
              "         '10': 7,\n",
              "         'institutes': 1,\n",
              "         'no': 4,\n",
              "         'saying': 1,\n",
              "         'this': 8,\n",
              "         'deal': 1,\n",
              "         'field': 1,\n",
              "         'yesterday': 3,\n",
              "         'corn': 1,\n",
              "         'We': 2,\n",
              "         'Central': 1,\n",
              "         'measures': 1,\n",
              "         'PRICES': 1,\n",
              "         'cuts': 1,\n",
              "         'policy': 3,\n",
              "         'Associates': 1,\n",
              "         'funds': 1,\n",
              "         'UNIT': 1,\n",
              "         '83': 1,\n",
              "         'output': 2,\n",
              "         'Bundesbank': 1,\n",
              "         'oil': 6,\n",
              "         'IT': 1,\n",
              "         'response': 1,\n",
              "         'agreed': 3,\n",
              "         'leading': 1,\n",
              "         'Japan': 6,\n",
              "         'pct': 19,\n",
              "         'investors': 1,\n",
              "         'mainly': 1,\n",
              "         'plans': 2,\n",
              "         'Texaco': 1,\n",
              "         'West': 3,\n",
              "         'likely': 2,\n",
              "         'operating': 1,\n",
              "         'believed': 1,\n",
              "         'proposal': 2,\n",
              "         'return': 1,\n",
              "         'BANK': 2,\n",
              "         'York': 2,\n",
              "         'international': 1,\n",
              "         ...})"
            ]
          },
          "metadata": {},
          "execution_count": 38
        }
      ],
      "source": [
        "unigram_table = []\n",
        "\n",
        "for v in vocabs:\n",
        "    uw = word_count[v] / num_total_words\n",
        "    uw_alpha = int((uw ** 0.75) / z)\n",
        "    unigram_table.extend([v] * uw_alpha)\n",
        "\n",
        "Counter(unigram_table)"
      ]
    },
    {
      "cell_type": "markdown",
      "metadata": {
        "id": "YrLWXKRhqVJ6"
      },
      "source": [
        "## 4. Model\n",
        "\n",
        "$$\\mathbf{J}_{\\text{neg-sample}}(\\mathbf{v}_c,o,\\mathbf{U})=-\\log(\\sigma(\\mathbf{u}_o^T\\mathbf{v}_c))-\\sum_{k=1}^K\\log(\\sigma(-\\mathbf{u}_k^T\\mathbf{v}_c))$$"
      ]
    },
    {
      "cell_type": "code",
      "execution_count": 39,
      "metadata": {
        "id": "XBEADE1yqVJ6"
      },
      "outputs": [],
      "source": [
        "def prepare_sequence(seq, word2index):\n",
        "    idxs = list(map(lambda w: word2index[w] if word2index.get(w) is not None else word2index['<UNK>'], seq))\n",
        "    return torch.LongTensor(idxs)"
      ]
    },
    {
      "cell_type": "code",
      "execution_count": 40,
      "metadata": {
        "id": "SpqJoZRQqVJ7"
      },
      "outputs": [],
      "source": [
        "import random\n",
        "\n",
        "def negative_sampling(targets, unigram_table, k):\n",
        "    batch_size = targets.shape[0]\n",
        "    neg_samples = []\n",
        "    for i in range(batch_size):  #(1, k)\n",
        "        target_index = targets[i].item()\n",
        "        nsample      = []\n",
        "        while (len(nsample) < k):\n",
        "            neg = random.choice(unigram_table)\n",
        "            if word2index[neg] == target_index:\n",
        "                continue\n",
        "            nsample.append(neg)\n",
        "        neg_samples.append(prepare_sequence(nsample, word2index).reshape(1, -1))\n",
        "\n",
        "    return torch.cat(neg_samples) #batch_size, k"
      ]
    },
    {
      "cell_type": "code",
      "execution_count": 41,
      "metadata": {
        "id": "m5vt7FkFqVJ7"
      },
      "outputs": [],
      "source": [
        "batch_size = 2\n",
        "x, y = random_batch(batch_size, corpus)\n",
        "x_tensor = torch.LongTensor(x)\n",
        "y_tensor = torch.LongTensor(y)"
      ]
    },
    {
      "cell_type": "code",
      "execution_count": 42,
      "metadata": {
        "id": "_FX-UtWEqVJ8"
      },
      "outputs": [],
      "source": [
        "k = 5\n",
        "neg_samples = negative_sampling(y_tensor, unigram_table, k)"
      ]
    },
    {
      "cell_type": "code",
      "execution_count": 43,
      "metadata": {
        "colab": {
          "base_uri": "https://localhost:8080/"
        },
        "id": "tOND2O1WqVJ8",
        "outputId": "3f7548b3-6447-4a36-c0f1-c891090c62e8"
      },
      "outputs": [
        {
          "output_type": "execute_result",
          "data": {
            "text/plain": [
              "tensor([11394])"
            ]
          },
          "metadata": {},
          "execution_count": 43
        }
      ],
      "source": [
        "y_tensor[1]"
      ]
    },
    {
      "cell_type": "code",
      "execution_count": 44,
      "metadata": {
        "colab": {
          "base_uri": "https://localhost:8080/"
        },
        "id": "7OHZLLdsqVJ8",
        "outputId": "96b84306-e62b-4017-9761-efd3e4b861ce"
      },
      "outputs": [
        {
          "output_type": "execute_result",
          "data": {
            "text/plain": [
              "tensor([ 2802, 10719,  6500,  8090,  5713])"
            ]
          },
          "metadata": {},
          "execution_count": 44
        }
      ],
      "source": [
        "neg_samples[1]"
      ]
    },
    {
      "cell_type": "markdown",
      "metadata": {
        "id": "pMWP02PXqVJ9"
      },
      "source": [
        "$$\\mathbf{J}_{\\text{neg-sample}}(\\mathbf{v}_c,o,\\mathbf{U})=-\\log(\\sigma(\\mathbf{u}_o^T\\mathbf{v}_c))-\\sum_{k=1}^K\\log(\\sigma(-\\mathbf{u}_k^T\\mathbf{v}_c))$$"
      ]
    },
    {
      "cell_type": "code",
      "execution_count": 45,
      "metadata": {
        "id": "QtRdSRrAqVJ9"
      },
      "outputs": [],
      "source": [
        "class SkipgramNeg(nn.Module):\n",
        "\n",
        "    def __init__(self, voc_size, emb_size, word2index):\n",
        "        super(SkipgramNeg, self).__init__()\n",
        "        self.embedding_center  = nn.Embedding(voc_size, emb_size)\n",
        "        self.embedding_outside = nn.Embedding(voc_size, emb_size)\n",
        "        self.logsigmoid        = nn.LogSigmoid()\n",
        "        self.word2index        = word2index\n",
        "\n",
        "    def forward(self, center, outside, negative):\n",
        "        #center, outside:  (bs, 1)\n",
        "        #negative       :  (bs, k)\n",
        "\n",
        "        center_embed   = self.embedding_center(center) #(bs, 1, emb_size)\n",
        "        outside_embed  = self.embedding_outside(outside) #(bs, 1, emb_size)\n",
        "        negative_embed = self.embedding_outside(negative) #(bs, k, emb_size)\n",
        "\n",
        "        uovc           = outside_embed.bmm(center_embed.transpose(1, 2)).squeeze(2) #(bs, 1)\n",
        "        ukvc           = -negative_embed.bmm(center_embed.transpose(1, 2)).squeeze(2) #(bs, k)\n",
        "        ukvc_sum       = torch.sum(ukvc, 1).reshape(-1, 1) #(bs, 1)\n",
        "\n",
        "        loss           = self.logsigmoid(uovc) + self.logsigmoid(ukvc_sum)\n",
        "\n",
        "        return -torch.mean(loss)\n",
        "\n",
        "    def get_embed(self, word):\n",
        "      word2index = self.word2index\n",
        "      try:\n",
        "        index = word2index[word]\n",
        "      except:\n",
        "        index = word2index['<UNK>']\n",
        "\n",
        "      word = torch.LongTensor([word2index[word]]).to(device)\n",
        "\n",
        "      embed_c = self.embedding_center(word)\n",
        "      embed_o = self.embedding_outside(word)\n",
        "      embed   = (embed_c + embed_o) / 2\n",
        "\n",
        "      return embed[0][0].item(), embed[0][1].item()"
      ]
    },
    {
      "cell_type": "code",
      "execution_count": 46,
      "metadata": {
        "id": "thXBuTSqqVJ9"
      },
      "outputs": [],
      "source": [
        "#test your model\n",
        "emb_size = 2\n",
        "voc_size = len(vocabs)\n",
        "model = SkipgramNeg(voc_size, emb_size, word2index)"
      ]
    },
    {
      "cell_type": "code",
      "execution_count": 47,
      "metadata": {
        "id": "H5jIClj9qVJ9"
      },
      "outputs": [],
      "source": [
        "loss = model(x_tensor, y_tensor, neg_samples)"
      ]
    },
    {
      "cell_type": "code",
      "execution_count": 48,
      "metadata": {
        "colab": {
          "base_uri": "https://localhost:8080/"
        },
        "id": "medE_yuLqVJ-",
        "outputId": "91f72799-27d5-4a8e-990b-1df29c68f508"
      },
      "outputs": [
        {
          "output_type": "execute_result",
          "data": {
            "text/plain": [
              "tensor(1.6778, grad_fn=<NegBackward0>)"
            ]
          },
          "metadata": {},
          "execution_count": 48
        }
      ],
      "source": [
        "loss"
      ]
    },
    {
      "cell_type": "markdown",
      "metadata": {
        "id": "o9hLK4reqVJ_"
      },
      "source": [
        "## 5. Training"
      ]
    },
    {
      "cell_type": "code",
      "execution_count": 49,
      "metadata": {
        "id": "BdfbIGKeqVJ_"
      },
      "outputs": [],
      "source": [
        "optimizer = optim.Adam(model.parameters(), lr=0.001)"
      ]
    },
    {
      "cell_type": "code",
      "execution_count": 50,
      "metadata": {
        "id": "pf1La7gLqVJ_"
      },
      "outputs": [],
      "source": [
        "def epoch_time(start_time, end_time):\n",
        "    elapsed_time = end_time - start_time\n",
        "    elapsed_mins = int(elapsed_time / 60)\n",
        "    elapsed_secs = int(elapsed_time - (elapsed_mins * 60))\n",
        "    return elapsed_time, elapsed_mins, elapsed_secs"
      ]
    },
    {
      "cell_type": "code",
      "execution_count": 51,
      "metadata": {
        "colab": {
          "base_uri": "https://localhost:8080/"
        },
        "id": "HttAmPZGqVJ_",
        "outputId": "381f28f2-b760-4f6f-dd03-c67c1bd4e6d3"
      },
      "outputs": [
        {
          "output_type": "stream",
          "name": "stdout",
          "text": [
            "Epoch     10 | Loss: 4.542861 | time: 0m 24s\n",
            "Epoch     20 | Loss: 2.501101 | time: 0m 24s\n",
            "Epoch     30 | Loss: 5.943749 | time: 0m 24s\n",
            "Epoch     40 | Loss: 0.549180 | time: 0m 25s\n",
            "Epoch     50 | Loss: 0.997851 | time: 0m 24s\n",
            "Epoch     60 | Loss: 1.585015 | time: 0m 25s\n",
            "Epoch     70 | Loss: 2.395042 | time: 0m 26s\n",
            "Epoch     80 | Loss: 1.166544 | time: 0m 25s\n",
            "Epoch     90 | Loss: 0.924157 | time: 0m 25s\n",
            "Epoch    100 | Loss: 1.296758 | time: 0m 25s\n"
          ]
        }
      ],
      "source": [
        "import time\n",
        "\n",
        "num_epochs = 100\n",
        "total_time = 0\n",
        "start_time = time.time()\n",
        "\n",
        "for epoch in range(num_epochs):\n",
        "\n",
        "    #get batch\n",
        "    input_batch, label_batch = random_batch(batch_size, corpus)\n",
        "    input_tensor = torch.LongTensor(input_batch)\n",
        "    label_tensor = torch.LongTensor(label_batch)\n",
        "\n",
        "    #predict\n",
        "    neg_samples = negative_sampling(label_tensor, unigram_table, k)\n",
        "    loss = model(input_tensor, label_tensor, neg_samples)\n",
        "\n",
        "    #backprogate\n",
        "    optimizer.zero_grad()\n",
        "    loss.backward()\n",
        "\n",
        "    #update alpha\n",
        "    optimizer.step()\n",
        "\n",
        "    #print the loss\n",
        "    if (epoch + 1) % 10 == 0:\n",
        "        end_time = time.time()\n",
        "        total, epoch_mins, epoch_secs = epoch_time(start_time, end_time)\n",
        "        total_time += total\n",
        "        print(f\"Epoch {epoch+1:6.0f} | Loss: {loss:2.6f} | time: {epoch_mins}m {epoch_secs}s\")\n",
        "        start_time = time.time()"
      ]
    },
    {
      "cell_type": "code",
      "execution_count": 52,
      "metadata": {
        "colab": {
          "base_uri": "https://localhost:8080/"
        },
        "id": "3GRT-pp6qVKA",
        "outputId": "968ed55d-11a0-4da9-f1b5-8eca00c264e0"
      },
      "outputs": [
        {
          "output_type": "stream",
          "name": "stdout",
          "text": [
            "Total train loss: 1.296758\n",
            "Total training time: 253.03 seconds\n"
          ]
        }
      ],
      "source": [
        "# print total train loss and total training time\n",
        "print(f\"Total train loss: {loss:.6f}\")\n",
        "print(f\"Total training time: {total_time:.2f} seconds\")"
      ]
    },
    {
      "cell_type": "markdown",
      "metadata": {
        "id": "oV7yUwCuqVKA"
      },
      "source": [
        "## 6. Plot the embeddings"
      ]
    },
    {
      "cell_type": "code",
      "execution_count": 53,
      "metadata": {
        "colab": {
          "base_uri": "https://localhost:8080/"
        },
        "id": "ODLlywV_qVKA",
        "outputId": "90c2b52e-8beb-4992-8573-ed44ae50f1b7"
      },
      "outputs": [
        {
          "output_type": "execute_result",
          "data": {
            "text/plain": [
              "['TLX',\n",
              " 'Bond',\n",
              " 'POSITIVE',\n",
              " 'Greyhound',\n",
              " 'Following',\n",
              " 'McGill',\n",
              " 'Stock',\n",
              " 'proposals',\n",
              " 'noteholders',\n",
              " 'Contact']"
            ]
          },
          "metadata": {},
          "execution_count": 53
        }
      ],
      "source": [
        "vocabs[:10]"
      ]
    },
    {
      "cell_type": "code",
      "execution_count": 54,
      "metadata": {
        "colab": {
          "base_uri": "https://localhost:8080/"
        },
        "id": "pKPzA1DJqVKA",
        "outputId": "018b34d2-94cd-4414-b2ed-624fe892db10"
      },
      "outputs": [
        {
          "output_type": "execute_result",
          "data": {
            "text/plain": [
              "tensor([16169])"
            ]
          },
          "metadata": {},
          "execution_count": 54
        }
      ],
      "source": [
        "frame = torch.LongTensor([word2index['frame']])\n",
        "frame"
      ]
    },
    {
      "cell_type": "code",
      "execution_count": 55,
      "metadata": {
        "colab": {
          "base_uri": "https://localhost:8080/"
        },
        "id": "_gM9OaueqVKA",
        "outputId": "2c875bf9-7255-49c1-b74b-a86a6d7d6708"
      },
      "outputs": [
        {
          "output_type": "execute_result",
          "data": {
            "text/plain": [
              "tensor([[0.5181, 1.2027]], grad_fn=<DivBackward0>)"
            ]
          },
          "metadata": {},
          "execution_count": 55
        }
      ],
      "source": [
        "frame_embed_c = model.embedding_center(frame)\n",
        "frame_embed_o = model.embedding_outside(frame)\n",
        "frame_embed   = (frame_embed_c + frame_embed_o) / 2\n",
        "frame_embed"
      ]
    },
    {
      "cell_type": "code",
      "execution_count": 56,
      "metadata": {
        "colab": {
          "base_uri": "https://localhost:8080/"
        },
        "id": "v4Y8ImBbqVKB",
        "outputId": "2b08a5f6-2ce7-4c44-af21-fd212a508f44"
      },
      "outputs": [
        {
          "output_type": "execute_result",
          "data": {
            "text/plain": [
              "tensor([[ 0.4644, -0.0138]], grad_fn=<EmbeddingBackward0>)"
            ]
          },
          "metadata": {},
          "execution_count": 56
        }
      ],
      "source": [
        "frame_embed_o"
      ]
    },
    {
      "cell_type": "code",
      "execution_count": 57,
      "metadata": {
        "id": "4VbvxE80qVKB"
      },
      "outputs": [],
      "source": [
        "# def get_embed(word):\n",
        "#     try:\n",
        "#         index = word2index[word]\n",
        "#     except:\n",
        "#         index = word2index['<UNK>']\n",
        "\n",
        "#     word = torch.LongTensor([word2index[word]])\n",
        "\n",
        "#     embed_c = model.embedding_center(word)\n",
        "#     embed_o = model.embedding_outside(word)\n",
        "#     embed   = (embed_c + embed_o) / 2\n",
        "\n",
        "#     return embed[0][0].item(), embed[0][1].item()"
      ]
    },
    {
      "cell_type": "code",
      "execution_count": 58,
      "metadata": {
        "id": "fs4RyHdlqVKC"
      },
      "outputs": [],
      "source": [
        "# get_embed('fruit')"
      ]
    },
    {
      "cell_type": "code",
      "execution_count": 59,
      "metadata": {
        "id": "wTXK3qiZqVKD"
      },
      "outputs": [],
      "source": [
        "# get_embed('cat')"
      ]
    },
    {
      "cell_type": "code",
      "execution_count": 60,
      "metadata": {
        "id": "SR3-WPJgqVKD"
      },
      "outputs": [],
      "source": [
        "# get_embed('dog')"
      ]
    },
    {
      "cell_type": "code",
      "execution_count": 61,
      "metadata": {
        "id": "VEQmRe_qqVKE"
      },
      "outputs": [],
      "source": [
        "# get_embed('banana')"
      ]
    },
    {
      "cell_type": "code",
      "execution_count": 62,
      "metadata": {
        "id": "7iNsqbFpqVKE"
      },
      "outputs": [],
      "source": [
        "# plt.figure(figsize=(6, 3))\n",
        "# for i, word in enumerate(vocabs):\n",
        "#     x, y = get_embed(word)\n",
        "#     plt.scatter(x, y)\n",
        "#     plt.annotate(word, xy=(x, y), xytext=(5, 2), textcoords='offset points')\n",
        "# plt.show()"
      ]
    },
    {
      "cell_type": "markdown",
      "metadata": {
        "id": "0rOZmjyaqVKF"
      },
      "source": [
        "## 7. Save Model"
      ]
    },
    {
      "cell_type": "code",
      "execution_count": 63,
      "metadata": {
        "id": "qEnsc4eaqVKF"
      },
      "outputs": [],
      "source": [
        "torch.save(model.state_dict(), 'app/code/models/skipgram-neg.pt')"
      ]
    },
    {
      "cell_type": "code",
      "execution_count": 64,
      "metadata": {
        "id": "nKGGw8k4qVKF"
      },
      "outputs": [],
      "source": [
        "import pickle\n",
        "\n",
        "skipgram_neg_args = {\n",
        "    'word2index': word2index,\n",
        "    'voc_size': voc_size,\n",
        "    'emb_size': emb_size\n",
        "}\n",
        "\n",
        "pickle.dump(skipgram_neg_args, open('app/code/models/skipgrams-neg.pkl', 'wb'))"
      ]
    },
    {
      "cell_type": "code",
      "execution_count": 65,
      "metadata": {
        "colab": {
          "base_uri": "https://localhost:8080/"
        },
        "id": "27XgYQ8JqVKG",
        "outputId": "058aa72a-735a-477b-ff70-cf0c1ec0c64e"
      },
      "outputs": [
        {
          "output_type": "stream",
          "name": "stderr",
          "text": [
            "<ipython-input-65-bf315050333c>:3: FutureWarning: You are using `torch.load` with `weights_only=False` (the current default value), which uses the default pickle module implicitly. It is possible to construct malicious pickle data which will execute arbitrary code during unpickling (See https://github.com/pytorch/pytorch/blob/main/SECURITY.md#untrusted-models for more details). In a future release, the default value for `weights_only` will be flipped to `True`. This limits the functions that could be executed during unpickling. Arbitrary objects will no longer be allowed to be loaded via this mode unless they are explicitly allowlisted by the user via `torch.serialization.add_safe_globals`. We recommend you start setting `weights_only=True` for any use case where you don't have full control of the loaded file. Please open an issue on GitHub for any issues related to this experimental feature.\n",
            "  load_model.load_state_dict(torch.load('app/code/models/skipgram-neg.pt'))\n"
          ]
        },
        {
          "output_type": "execute_result",
          "data": {
            "text/plain": [
              "<All keys matched successfully>"
            ]
          },
          "metadata": {},
          "execution_count": 65
        }
      ],
      "source": [
        "load_skipgram_neg_args = pickle.load(open('app/code/models/skipgrams-neg.pkl', 'rb'))\n",
        "load_model = SkipgramNeg(**load_skipgram_neg_args).to(device)\n",
        "load_model.load_state_dict(torch.load('app/code/models/skipgram-neg.pt'))"
      ]
    },
    {
      "cell_type": "code",
      "execution_count": 66,
      "metadata": {
        "colab": {
          "base_uri": "https://localhost:8080/"
        },
        "id": "-Dd7f4ahqVKG",
        "outputId": "59d048a9-82e8-4b3b-85d9-0e2e798abca0"
      },
      "outputs": [
        {
          "output_type": "execute_result",
          "data": {
            "text/plain": [
              "(0.5180826783180237, 1.202650547027588)"
            ]
          },
          "metadata": {},
          "execution_count": 66
        }
      ],
      "source": [
        "load_model.get_embed('frame')"
      ]
    },
    {
      "cell_type": "markdown",
      "metadata": {
        "id": "JF-4Y2VqqVKG"
      },
      "source": [
        "## 7. Cosine similarity"
      ]
    },
    {
      "cell_type": "code",
      "execution_count": 67,
      "metadata": {
        "id": "Mr3T3wnGqVKH"
      },
      "outputs": [],
      "source": [
        "# banana = get_embed('banana')\n",
        "# banana"
      ]
    },
    {
      "cell_type": "code",
      "execution_count": 68,
      "metadata": {
        "id": "9U4HbbbhqVKH"
      },
      "outputs": [],
      "source": [
        "# fruit = get_embed('fruit')\n",
        "# fruit"
      ]
    },
    {
      "cell_type": "code",
      "execution_count": 69,
      "metadata": {
        "id": "8VkeUURJqVKH"
      },
      "outputs": [],
      "source": [
        "# cat = get_embed('cat')\n",
        "# cat"
      ]
    },
    {
      "cell_type": "code",
      "execution_count": 70,
      "metadata": {
        "id": "CI0p4ZuxqVKH"
      },
      "outputs": [],
      "source": [
        "# np.array(banana) @ np.array(cat)"
      ]
    },
    {
      "cell_type": "code",
      "execution_count": 71,
      "metadata": {
        "id": "jkxsW6bRqVKH"
      },
      "outputs": [],
      "source": [
        "# #more formally is to divide by its norm\n",
        "# def cosine_similarity(A, B):\n",
        "#     dot_product = np.dot(A, B)\n",
        "#     norm_a = np.linalg.norm(A)\n",
        "#     norm_b = np.linalg.norm(B)\n",
        "#     similarity = dot_product / (norm_a * norm_b)\n",
        "#     return similarity\n",
        "\n",
        "# print(cosine_similarity(np.array(banana), np.array(cat)))\n",
        "# print(cosine_similarity(np.array(banana), np.array(fruit)))"
      ]
    }
  ],
  "metadata": {
    "kernelspec": {
      "display_name": "Python 3",
      "name": "python3"
    },
    "language_info": {
      "codemirror_mode": {
        "name": "ipython",
        "version": 3
      },
      "file_extension": ".py",
      "mimetype": "text/x-python",
      "name": "python",
      "nbconvert_exporter": "python",
      "pygments_lexer": "ipython3",
      "version": "3.12.6"
    },
    "vscode": {
      "interpreter": {
        "hash": "0f2c79af21be9d001248940c049b6176cf8bfb45cabf7aa85848f5cea0f590f6"
      }
    },
    "colab": {
      "provenance": [],
      "gpuType": "T4"
    },
    "accelerator": "GPU"
  },
  "nbformat": 4,
  "nbformat_minor": 0
}